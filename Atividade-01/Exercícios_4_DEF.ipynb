{
  "nbformat": 4,
  "nbformat_minor": 0,
  "metadata": {
    "colab": {
      "provenance": [],
      "collapsed_sections": [
        "k2cpRjv-xFqH"
      ],
      "authorship_tag": "ABX9TyOfrVGv0gM39NayNEbzo12O",
      "include_colab_link": true
    },
    "kernelspec": {
      "name": "python3",
      "display_name": "Python 3"
    },
    "language_info": {
      "name": "python"
    }
  },
  "cells": [
    {
      "cell_type": "markdown",
      "metadata": {
        "id": "view-in-github",
        "colab_type": "text"
      },
      "source": [
        "<a href=\"https://colab.research.google.com/github/GabrielCogoRangel/ENG_20242/blob/main/Atividade-01/Exerc%C3%ADcios_4_DEF.ipynb\" target=\"_parent\"><img src=\"https://colab.research.google.com/assets/colab-badge.svg\" alt=\"Open In Colab\"/></a>"
      ]
    },
    {
      "cell_type": "markdown",
      "source": [
        "# **2º Bimestre**"
      ],
      "metadata": {
        "id": "lqVRSMLl61yZ"
      }
    },
    {
      "cell_type": "markdown",
      "source": [
        "# **Exercícios (Aula 4) DEF**"
      ],
      "metadata": {
        "id": "k2cpRjv-xFqH"
      }
    },
    {
      "cell_type": "code",
      "source": [
        "# 1 - Crie uma função para que o usuário digite o seu nome e a sua cidade. O programa deve exibir \"Olá, [nome]! Você vive em [cidade]\n",
        "\n",
        "def saudacao():\n",
        "    nome = input(\"Digite o seu nome: \")\n",
        "    cidade = input(\"Digite a sua cidade: \")\n",
        "    print(f\"Olá, {nome}! Você vive em {cidade}\")\n",
        "saudacao()"
      ],
      "metadata": {
        "colab": {
          "base_uri": "https://localhost:8080/"
        },
        "id": "5YLtdciPxL_U",
        "outputId": "57f4c104-588a-4ada-ef96-b0d36029a8a3"
      },
      "execution_count": null,
      "outputs": [
        {
          "output_type": "stream",
          "name": "stdout",
          "text": [
            "Digite o seu nome: Gabriel\n",
            "Digite a sua cidade: Cariacica\n",
            "Olá, Gabriel! Você vive em Cariacica\n"
          ]
        }
      ]
    },
    {
      "cell_type": "code",
      "source": [
        "# 2 - Crie uma função para que o usuário digite o comprimento e a largura de um retângulo. O programa deve exibir a área e o perímetro do retângulo.\n",
        "\n",
        "def calcular_retangulo():\n",
        "    comprimento = float(input(\"Digite o comprimento do retângulo: \"))\n",
        "    largura = float(input(\"Digite a largura do retângulo: \"))\n",
        "    area = comprimento * largura\n",
        "    perimetro = 2 * (comprimento + largura)\n",
        "    print(f\"A área do retângulo é: {area}\")\n",
        "    print(f\"O perímetro do retângulo é: {perimetro}\")\n",
        "calcular_retangulo()"
      ],
      "metadata": {
        "colab": {
          "base_uri": "https://localhost:8080/"
        },
        "id": "p0cZEHn1xNMO",
        "outputId": "2b7e6659-6061-4d70-a9b9-9d88fb93de3f"
      },
      "execution_count": null,
      "outputs": [
        {
          "output_type": "stream",
          "name": "stdout",
          "text": [
            "Digite o comprimento do retângulo: 3\n",
            "Digite a largura do retângulo: 4\n",
            "A área do retângulo é: 12.0\n",
            "O perímetro do retângulo é: 14.0\n"
          ]
        }
      ]
    },
    {
      "cell_type": "code",
      "source": [
        "# 3 - Crie uma função para que o usuário digite uma medida em metros. O programa deve converter essa medida para centímetros e milímetros e exibir o resultado.\n",
        "\n",
        "def converter_medidas():\n",
        "    metros = float(input(\"Digite a medida em metros: \"))\n",
        "    centimetros = metros * 100\n",
        "    milimetros = metros * 1000\n",
        "    print(f\"{metros} metros é igual a {centimetros} centímetros.\")\n",
        "    print(f\"{metros} metros é igual a {milimetros} milímetros.\")\n",
        "converter_medidas()"
      ],
      "metadata": {
        "colab": {
          "base_uri": "https://localhost:8080/"
        },
        "id": "Nf2-LajmxNE9",
        "outputId": "6504c48e-65a8-48e3-aefb-0b4e661a43f4"
      },
      "execution_count": null,
      "outputs": [
        {
          "output_type": "stream",
          "name": "stdout",
          "text": [
            "Digite a medida em metros: 100\n",
            "100.0 metros é igual a 10000.0 centímetros.\n",
            "100.0 metros é igual a 100000.0 milímetros.\n"
          ]
        }
      ]
    },
    {
      "cell_type": "code",
      "source": [
        "# 4 - Crie uma função para que o usuário digite a largura e a altura de um retângulo. O programa deve calcular e exibir a área do retângulo.base = float(input(\"Digite o tamanho da base do retangulo (cm):\"))\n",
        "\n",
        "def calcular_area_retangulo():\n",
        "    largura = float(input(\"Digite a largura do retângulo (cm): \"))\n",
        "    altura = float(input(\"Digite a altura do retângulo (cm): \"))\n",
        "    area = largura * altura\n",
        "    print(f\"A área do retângulo é: {area} cm²\")\n",
        "calcular_area_retangulo()"
      ],
      "metadata": {
        "colab": {
          "base_uri": "https://localhost:8080/"
        },
        "id": "xvD_SZkZxM9V",
        "outputId": "5ee86c9e-29a4-4adf-ef6b-fe63e65d702c"
      },
      "execution_count": null,
      "outputs": [
        {
          "output_type": "stream",
          "name": "stdout",
          "text": [
            "Digite a largura do retângulo (cm): 5\n",
            "Digite a altura do retângulo (cm): 10\n",
            "A área do retângulo é: 50.0 cm²\n"
          ]
        }
      ]
    },
    {
      "cell_type": "code",
      "source": [
        "# 5 - Crie uma função para que o usuário digite as idades de duas pessoas. O programa deve exibir se as idades são iguais ou diferentes.\n",
        "\n",
        "def comparar_idades():\n",
        "    idade1 = int(input(\"Digite a idade da primeira pessoa: \"))\n",
        "    idade2 = int(input(\"Digite a idade da segunda pessoa: \"))\n",
        "    if idade1 == idade2:\n",
        "        print(\"As idades são iguais.\")\n",
        "    else:\n",
        "        print(\"As idades são diferentes.\")\n",
        "comparar_idades()"
      ],
      "metadata": {
        "colab": {
          "base_uri": "https://localhost:8080/"
        },
        "id": "pXcYJ50uxM1c",
        "outputId": "96970563-cd48-46f9-ec5c-6ed0f9b559d1"
      },
      "execution_count": null,
      "outputs": [
        {
          "output_type": "stream",
          "name": "stdout",
          "text": [
            "Digite a idade da primeira pessoa: 18\n",
            "Digite a idade da segunda pessoa: 18\n",
            "As idades são iguais.\n"
          ]
        }
      ]
    },
    {
      "cell_type": "code",
      "source": [
        "# 6 - Crie uma função para que o usuário digite seu peso (em kg) e sua altura (em metros). O programa deve calcular e exibir o Índice de Massa Corporal (IMC).\n",
        "\n",
        "def calcular_imc():\n",
        "    peso = float(input(\"Digite seu peso em kg: \"))\n",
        "    altura = float(input(\"Digite sua altura em metros: \"))\n",
        "    imc = peso / (altura ** 2)\n",
        "    print(f\"Seu IMC é: {imc:.2f}\")\n",
        "calcular_imc()"
      ],
      "metadata": {
        "colab": {
          "base_uri": "https://localhost:8080/"
        },
        "id": "pKEU2Z_txMuA",
        "outputId": "bfd8fc33-a40c-451f-c2d5-a43830a41e09"
      },
      "execution_count": null,
      "outputs": [
        {
          "output_type": "stream",
          "name": "stdout",
          "text": [
            "Digite seu peso em kg: 80\n",
            "Digite sua altura em metros: 1.70\n",
            "Seu IMC é: 27.68\n"
          ]
        }
      ]
    },
    {
      "cell_type": "code",
      "source": [
        "# 7 - Crie uma função para que o usuário digite dois números. O programa deve exibir se o primeiro número é maior, menor ou igual ao segundo número.\n",
        "\n",
        "def comparar_numeros():\n",
        "    # Solicita ao usuário que digite dois números\n",
        "    numero1 = float(input(\"Digite o primeiro número: \"))\n",
        "    numero2 = float(input(\"Digite o segundo número: \"))\n",
        "    if numero1 > numero2:\n",
        "        print(\"O primeiro número é maior que o segundo.\")\n",
        "    elif numero1 < numero2:\n",
        "        print(\"O primeiro número é menor que o segundo.\")\n",
        "    else:\n",
        "        print(\"Os dois números são iguais.\")\n",
        "comparar_numeros()"
      ],
      "metadata": {
        "colab": {
          "base_uri": "https://localhost:8080/"
        },
        "id": "tRfSI7X_xMlk",
        "outputId": "03e005b9-4b7e-4174-fac1-a05205ffc0f9"
      },
      "execution_count": null,
      "outputs": [
        {
          "output_type": "stream",
          "name": "stdout",
          "text": [
            "Digite o primeiro número: 5\n",
            "Digite o segundo número: 10\n",
            "O primeiro número é menor que o segundo.\n"
          ]
        }
      ]
    },
    {
      "cell_type": "code",
      "source": [
        "# 8 - Crie uma função para que o usuário digite três números. O programa deve calcular e exibir a média aritmética desses números.\n",
        "\n",
        "def calcular_media():\n",
        "    numero1 = float(input(\"Digite o primeiro número: \"))\n",
        "    numero2 = float(input(\"Digite o segundo número: \"))\n",
        "    numero3 = float(input(\"Digite o terceiro número: \"))\n",
        "    media = (numero1 + numero2 + numero3) / 3\n",
        "    print(f\"A média aritmética dos números é: {media:.2f}\")\n",
        "calcular_media()"
      ],
      "metadata": {
        "colab": {
          "base_uri": "https://localhost:8080/"
        },
        "id": "ywHc_Hj-xMdh",
        "outputId": "25d70e60-606c-4895-afe8-6cef17d1aca6"
      },
      "execution_count": null,
      "outputs": [
        {
          "output_type": "stream",
          "name": "stdout",
          "text": [
            "Digite o primeiro número: 2\n",
            "Digite o segundo número: 4\n",
            "Digite o terceiro número: 5\n",
            "A média aritmética dos números é: 3.67\n"
          ]
        }
      ]
    },
    {
      "cell_type": "code",
      "source": [
        "# 9 - Crie uma função para que o usuário digite o raio e a altura de um cilindro. O programa deve calcular e exibir o volume do cilindro.\n",
        "\n",
        "import math\n",
        "\n",
        "def calcular_volume_cilindro():\n",
        "    raio = float(input(\"Digite o raio do cilindro (em metros): \"))\n",
        "    altura = float(input(\"Digite a altura do cilindro (em metros): \"))\n",
        "    volume = math.pi * (raio ** 2) * altura\n",
        "    print(f\"O volume do cilindro é: {volume:.2f} metros cúbicos\")\n",
        "calcular_volume_cilindro()\n"
      ],
      "metadata": {
        "colab": {
          "base_uri": "https://localhost:8080/"
        },
        "id": "zlTiaRHoxMVR",
        "outputId": "a51c12ae-c9d7-4f39-e986-11afa00fd71b"
      },
      "execution_count": null,
      "outputs": [
        {
          "output_type": "stream",
          "name": "stdout",
          "text": [
            "Digite o raio do cilindro (em metros): 25\n",
            "Digite a altura do cilindro (em metros): 30\n",
            "O volume do cilindro é: 58904.86 metros cúbicos\n"
          ]
        }
      ]
    },
    {
      "cell_type": "code",
      "source": [
        "# 10 - Crie uma função para que o usuário digite duas palavras. O programa deve exibir se as palavras são iguais ou diferentes.\n",
        "\n",
        "def comparar_palavras():\n",
        "    palavra1 = input(\"Digite a primeira palavra: \")\n",
        "    palavra2 = input(\"Digite a segunda palavra: \")\n",
        "    if palavra1 == palavra2:\n",
        "        print(\"As palavras são iguais.\")\n",
        "    else:\n",
        "        print(\"As palavras são diferentes.\")\n",
        "comparar_palavras()\n"
      ],
      "metadata": {
        "colab": {
          "base_uri": "https://localhost:8080/"
        },
        "id": "hOTwL5-axML-",
        "outputId": "6dcae3ec-5187-4cd2-9299-91ed9d14b53e"
      },
      "execution_count": null,
      "outputs": [
        {
          "output_type": "stream",
          "name": "stdout",
          "text": [
            "Digite a primeira palavra: 10\n",
            "Digite a segunda palavra: 5\n",
            "As palavras são diferentes.\n"
          ]
        }
      ]
    }
  ]
}