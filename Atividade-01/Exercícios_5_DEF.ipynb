{
  "nbformat": 4,
  "nbformat_minor": 0,
  "metadata": {
    "colab": {
      "provenance": [],
      "collapsed_sections": [
        "cAkSk4s9kIMV"
      ],
      "authorship_tag": "ABX9TyNy34DGZuLCP5OYEs0Mw75g",
      "include_colab_link": true
    },
    "kernelspec": {
      "name": "python3",
      "display_name": "Python 3"
    },
    "language_info": {
      "name": "python"
    }
  },
  "cells": [
    {
      "cell_type": "markdown",
      "metadata": {
        "id": "view-in-github",
        "colab_type": "text"
      },
      "source": [
        "<a href=\"https://colab.research.google.com/github/GabrielCogoRangel/ENG_20242/blob/main/Atividade-01/Exerc%C3%ADcios_5_DEF.ipynb\" target=\"_parent\"><img src=\"https://colab.research.google.com/assets/colab-badge.svg\" alt=\"Open In Colab\"/></a>"
      ]
    },
    {
      "cell_type": "markdown",
      "source": [
        "# **2º Bimestre**"
      ],
      "metadata": {
        "id": "lqVRSMLl61yZ"
      }
    },
    {
      "cell_type": "markdown",
      "source": [
        "# **Exercícios (Aula 05) DEF**"
      ],
      "metadata": {
        "id": "cAkSk4s9kIMV"
      }
    },
    {
      "cell_type": "code",
      "source": [
        "# 1 - Escreva uma função que receba uma lista de números como entrada e retorne a soma de todos os elementos da lista.\n",
        "def soma_lista(numeros):\n",
        "    return sum(numeros)\n",
        "\n",
        "lista = [1, 2, 3, 4, 5]\n",
        "resultado = soma_lista(lista)\n",
        "print(resultado)"
      ],
      "metadata": {
        "colab": {
          "base_uri": "https://localhost:8080/"
        },
        "id": "qKufEFzxkJoc",
        "outputId": "e3671c74-0382-4a46-f689-c7d7617785ac"
      },
      "execution_count": null,
      "outputs": [
        {
          "output_type": "stream",
          "name": "stdout",
          "text": [
            "15\n"
          ]
        }
      ]
    },
    {
      "cell_type": "code",
      "source": [
        "# 2 - Crie uma função que receba uma lista como entrada e retorne a lista invertida, ou seja, a ordem dos elementos deve ser invertida.\n",
        "def inverter_lista(lista):\n",
        "    return lista[::-1]\n",
        "\n",
        "lista = [1, 2, 3, 4, 5]\n",
        "lista_invertida = inverter_lista(lista)\n",
        "print(lista_invertida)"
      ],
      "metadata": {
        "colab": {
          "base_uri": "https://localhost:8080/"
        },
        "id": "aZ_tf7JKkRxA",
        "outputId": "b5c089aa-96f7-483e-f3b9-8768782f1bc4"
      },
      "execution_count": null,
      "outputs": [
        {
          "output_type": "stream",
          "name": "stdout",
          "text": [
            "[5, 4, 3, 2, 1]\n"
          ]
        }
      ]
    },
    {
      "cell_type": "code",
      "source": [
        "# 3 - Escreva uma função que receba uma lista de números como entrada e retorne a média dos elementos da lista.\n",
        "def media_lista(numeros):\n",
        "    return sum(numeros) / len(numeros)\n",
        "\n",
        "lista = [10, 20, 30, 40, 50]\n",
        "media = media_lista(lista)\n",
        "print(media)"
      ],
      "metadata": {
        "colab": {
          "base_uri": "https://localhost:8080/"
        },
        "id": "orgMqo0OkRpY",
        "outputId": "05f9dc12-f62a-4113-aa29-d47e25ed06bb"
      },
      "execution_count": null,
      "outputs": [
        {
          "output_type": "stream",
          "name": "stdout",
          "text": [
            "30.0\n"
          ]
        }
      ]
    },
    {
      "cell_type": "code",
      "source": [
        "# 4 - Crie uma função que receba uma lista de strings como entrada e retorne a lista contendo o tamanho de cada string.\n",
        "def tamanho_strings(strings):\n",
        "    return [len(string) for string in strings]\n",
        "\n",
        "lista_strings = [\"uva\", \"banana\", \"morango\", \"ameixa\"]\n",
        "tamanhos = tamanho_strings(lista_strings)\n",
        "print(tamanhos)"
      ],
      "metadata": {
        "colab": {
          "base_uri": "https://localhost:8080/"
        },
        "id": "kx6R4PICkRhy",
        "outputId": "032949a7-7d9a-435e-b471-b6920ee24348"
      },
      "execution_count": null,
      "outputs": [
        {
          "output_type": "stream",
          "name": "stdout",
          "text": [
            "[3, 6, 7, 6]\n"
          ]
        }
      ]
    },
    {
      "cell_type": "code",
      "source": [
        "# 5 - Escreva uma função que receba duas listas como entrada e retorne uma nova lista contendo apenas os elementos que são comuns a ambas as listas.\n",
        "def elementos_comuns(lista1, lista2):\n",
        "    return list(set(lista1) & set(lista2))\n",
        "\n",
        "lista1 = [1, 2, 3, 4, 5]\n",
        "lista2 = [4, 5, 6, 7, 8]\n",
        "comuns = elementos_comuns(lista1, lista2)\n",
        "print(comuns)"
      ],
      "metadata": {
        "colab": {
          "base_uri": "https://localhost:8080/"
        },
        "id": "E-mSdNVFkRaI",
        "outputId": "8cd58445-40b0-459f-ebf7-3010d1507737"
      },
      "execution_count": null,
      "outputs": [
        {
          "output_type": "stream",
          "name": "stdout",
          "text": [
            "[4, 5]\n"
          ]
        }
      ]
    },
    {
      "cell_type": "code",
      "source": [
        "# 6 - Crie uma função que receba uma lista como entrada e retorne uma nova lista contendo apenas os elementos únicos (sem repetição) da lista original.\n",
        "def elementos_unicos(lista):\n",
        "    return list(set(lista))\n",
        "\n",
        "lista = [1, 2, 2, 3, 4, 4, 5]\n",
        "unicos = elementos_unicos(lista)\n",
        "print(unicos)"
      ],
      "metadata": {
        "colab": {
          "base_uri": "https://localhost:8080/"
        },
        "id": "05ncFL2CkQMw",
        "outputId": "61e21120-1631-47ce-947c-6d4b396862fb"
      },
      "execution_count": null,
      "outputs": [
        {
          "output_type": "stream",
          "name": "stdout",
          "text": [
            "[1, 2, 3, 4, 5]\n"
          ]
        }
      ]
    },
    {
      "cell_type": "code",
      "source": [
        "# 7 - Escreva uma função que receba uma lista de números como entrada e retorne uma lista contendo apenas os números pares da lista original.\n",
        "def numeros_pares(lista):\n",
        "    return [num for num in lista if num % 2 == 0]\n",
        "\n",
        "lista = [1, 2, 3, 4, 5, 6, 7, 8, 9, 10]\n",
        "pares = numeros_pares(lista)\n",
        "print(pares)"
      ],
      "metadata": {
        "colab": {
          "base_uri": "https://localhost:8080/"
        },
        "id": "EzSK6-LVkQI_",
        "outputId": "234a8272-7d66-495d-fb33-53cf7b809ae3"
      },
      "execution_count": null,
      "outputs": [
        {
          "output_type": "stream",
          "name": "stdout",
          "text": [
            "[2, 4, 6, 8, 10]\n"
          ]
        }
      ]
    },
    {
      "cell_type": "code",
      "source": [
        "# 8 - Crie uma função que receba uma lista de números como entrada e retorne o maior elemento da lista.\n",
        "def maior_elemento(lista):\n",
        "    return max(lista)\n",
        "\n",
        "lista = [10, 20, 30, 40, 50]\n",
        "maior = maior_elemento(lista)\n",
        "print(maior)"
      ],
      "metadata": {
        "colab": {
          "base_uri": "https://localhost:8080/"
        },
        "id": "61_9hfVJkQFQ",
        "outputId": "f26ff8a1-e02d-4854-d91e-5cdf4e1e1bd7"
      },
      "execution_count": null,
      "outputs": [
        {
          "output_type": "stream",
          "name": "stdout",
          "text": [
            "50\n"
          ]
        }
      ]
    },
    {
      "cell_type": "code",
      "source": [
        "# 9 - Escreva uma função que receba uma lista como entrada e retorne True se a lista estiver ordenada de forma crescente, e False caso contrário.\n",
        "def lista_ordenada(lista):\n",
        "    return lista == sorted(lista)\n",
        "\n",
        "lista1 = [1, 2, 3, 4, 5]\n",
        "lista2 = [5, 3, 1, 2, 4]\n",
        "print(lista_ordenada(lista1))\n",
        "print(lista_ordenada(lista2))"
      ],
      "metadata": {
        "colab": {
          "base_uri": "https://localhost:8080/"
        },
        "id": "EJljoEIRkPy_",
        "outputId": "46f57aa5-a7d5-4895-9b5f-a751e0e33155"
      },
      "execution_count": null,
      "outputs": [
        {
          "output_type": "stream",
          "name": "stdout",
          "text": [
            "True\n",
            "False\n"
          ]
        }
      ]
    },
    {
      "cell_type": "code",
      "source": [
        "# 10 - Crie uma função que receba duas listas como entrada e retorne True se uma lista for subconjunto da outra, e False caso contrário.\n",
        "def lista_subconjunto(lista1, lista2):\n",
        "    return set(lista1) <= set(lista2)\n",
        "\n",
        "lista1 = [1, 2, 3]\n",
        "lista2 = [1, 2, 3, 4, 5]\n",
        "print(lista_subconjunto(lista1, lista2))"
      ],
      "metadata": {
        "colab": {
          "base_uri": "https://localhost:8080/"
        },
        "id": "Acw1pNcSkPn4",
        "outputId": "3b8162c5-fce9-4200-f1b4-6725b5261c7b"
      },
      "execution_count": null,
      "outputs": [
        {
          "output_type": "stream",
          "name": "stdout",
          "text": [
            "True\n"
          ]
        }
      ]
    }
  ]
}