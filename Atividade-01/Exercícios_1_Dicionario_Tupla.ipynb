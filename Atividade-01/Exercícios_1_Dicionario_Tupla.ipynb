{
  "nbformat": 4,
  "nbformat_minor": 0,
  "metadata": {
    "colab": {
      "provenance": [],
      "authorship_tag": "ABX9TyOL6/danhOOxeOnK3aBA8BF",
      "include_colab_link": true
    },
    "kernelspec": {
      "name": "python3",
      "display_name": "Python 3"
    },
    "language_info": {
      "name": "python"
    }
  },
  "cells": [
    {
      "cell_type": "markdown",
      "metadata": {
        "id": "view-in-github",
        "colab_type": "text"
      },
      "source": [
        "<a href=\"https://colab.research.google.com/github/GabrielCogoRangel/ENG_20242/blob/main/Exerc%C3%ADcios_1_Dicionario_Tupla.ipynb\" target=\"_parent\"><img src=\"https://colab.research.google.com/assets/colab-badge.svg\" alt=\"Open In Colab\"/></a>"
      ]
    },
    {
      "cell_type": "markdown",
      "source": [
        "# **2º Bimestre**"
      ],
      "metadata": {
        "id": "lqVRSMLl61yZ"
      }
    },
    {
      "cell_type": "markdown",
      "source": [
        "# **Exercícios (Aula 01) Dicionario Tupla**"
      ],
      "metadata": {
        "id": "aRtCHzSt67E4"
      }
    },
    {
      "cell_type": "code",
      "source": [
        "# 1 Crie uma tupla chamada cidades que contenha os nomes de cinco cidades. Imprima a terceira cidade.\n",
        "\n",
        "cidades = (\"São Paulo\", \"Rio de Janeiro\", \"Espirito Santo\", \"Salvador\", \"Curitiba\")\n",
        "print(cidades[2])"
      ],
      "metadata": {
        "colab": {
          "base_uri": "https://localhost:8080/"
        },
        "id": "m-zbK1O47FWL",
        "outputId": "4fae795d-3458-4dc9-cfbf-381744bec17e"
      },
      "execution_count": null,
      "outputs": [
        {
          "output_type": "stream",
          "name": "stdout",
          "text": [
            "Espirito Santo\n"
          ]
        }
      ]
    },
    {
      "cell_type": "code",
      "source": [
        "# 2 Crie uma tupla chamada numeros com os seguintes valores: (1, 2, 3, 1, 4, 1). Utilize o método count() para contar quantas vezes o número 1 aparece na tupla.\n",
        "\n",
        "numeros = (1, 2, 3, 1, 4, 1)\n",
        "print(numeros.count(1))"
      ],
      "metadata": {
        "colab": {
          "base_uri": "https://localhost:8080/"
        },
        "id": "7EN9opIA7Rcg",
        "outputId": "b76a9105-c8c2-4a85-bbfb-70603c04cd50"
      },
      "execution_count": null,
      "outputs": [
        {
          "output_type": "stream",
          "name": "stdout",
          "text": [
            "3\n"
          ]
        }
      ]
    },
    {
      "cell_type": "code",
      "source": [
        "# 3 Crie uma tupla chamada animais com os seguintes valores: ('cachorro', 'gato', 'pássaro'). Verifique se 'gato' está na tupla e imprima uma mensagem informando o resultado.\n",
        "\n",
        "animais = ('cachorro', 'gato', 'pássaro')\n",
        "if 'gato' in animais:\n",
        "    print(\"O gato está na tupla.\")\n",
        "else:\n",
        "    print(\"O gato não está na tupla.\")"
      ],
      "metadata": {
        "colab": {
          "base_uri": "https://localhost:8080/"
        },
        "id": "cO8nxths7hkU",
        "outputId": "65e8aa3c-ef82-46aa-9ee6-5e7500df75cc"
      },
      "execution_count": null,
      "outputs": [
        {
          "output_type": "stream",
          "name": "stdout",
          "text": [
            "O gato está na tupla.\n"
          ]
        }
      ]
    },
    {
      "cell_type": "code",
      "source": [
        "# 4 Dada a tupla meses = ('janeiro', 'fevereiro', 'março', 'abril', 'maio'), encontre e imprima o índice do mês 'abril'.\n",
        "\n",
        "meses = ('janeiro', 'fevereiro', 'março', 'abril', 'maio')\n",
        "print(meses.index('abril'))"
      ],
      "metadata": {
        "colab": {
          "base_uri": "https://localhost:8080/"
        },
        "id": "uw1UjE8j7RVQ",
        "outputId": "4d22d78c-6bc1-4029-fc96-5ea641692ba8"
      },
      "execution_count": null,
      "outputs": [
        {
          "output_type": "stream",
          "name": "stdout",
          "text": [
            "3\n"
          ]
        }
      ]
    },
    {
      "cell_type": "code",
      "source": [
        "# 5 Crie uma tupla chamada coordenadas que armazene a latitude e longitude de um local (ex: (-23.5505, -46.6333)). Imprima a latitude e a longitude separadamente.\n",
        "\n",
        "coordenadas = (-23.5505, -46.6333)\n",
        "latitude = coordenadas[0]\n",
        "longitude = coordenadas[1]\n",
        "print(\"Latitude:\", latitude)\n",
        "print(\"Longitude:\", longitude)"
      ],
      "metadata": {
        "colab": {
          "base_uri": "https://localhost:8080/"
        },
        "id": "ZPTTey9I7ROA",
        "outputId": "180b2de2-58f1-475c-9a73-212501207f85"
      },
      "execution_count": null,
      "outputs": [
        {
          "output_type": "stream",
          "name": "stdout",
          "text": [
            "Latitude: -23.5505\n",
            "Longitude: -46.6333\n"
          ]
        }
      ]
    },
    {
      "cell_type": "code",
      "source": [
        "# 6 Crie um dicionário chamado carro com as chaves marca, modelo e ano. Atribua valores de sua escolha e imprima o modelo do carro.\n",
        "\n",
        "carro = {\n",
        "    \"marca\": \"Toyota\",\n",
        "    \"modelo\": \"Corolla\",\n",
        "    \"ano\": 2022\n",
        "}\n",
        "print(\"Modelo do carro:\", carro['modelo'])"
      ],
      "metadata": {
        "colab": {
          "base_uri": "https://localhost:8080/"
        },
        "id": "Cyw1n-Yd7RGw",
        "outputId": "e68b6b41-c475-431d-c460-8f75cfa6d9cb"
      },
      "execution_count": null,
      "outputs": [
        {
          "output_type": "stream",
          "name": "stdout",
          "text": [
            "Modelo do carro: Corolla\n"
          ]
        }
      ]
    },
    {
      "cell_type": "code",
      "source": [
        "# 7 Use o dicionário carro que você criou no exercício anterior. Adicione uma nova chave chamada cor e atribua uma cor ao carro. Em seguida, imprima o dicionário completo.\n",
        "\n",
        "carro = {\n",
        "    \"marca\": \"Toyota\",\n",
        "    \"modelo\": \"Corolla\",\n",
        "    \"ano\": 2022\n",
        "}\n",
        "carro['cor'] = 'prata'\n",
        "print(carro)"
      ],
      "metadata": {
        "colab": {
          "base_uri": "https://localhost:8080/"
        },
        "id": "MENvXU6M7Q_Y",
        "outputId": "ac5db886-6ce0-4b46-e558-efa15875893e"
      },
      "execution_count": null,
      "outputs": [
        {
          "output_type": "stream",
          "name": "stdout",
          "text": [
            "{'marca': 'Toyota', 'modelo': 'Corolla', 'ano': 2022, 'cor': 'prata'}\n"
          ]
        }
      ]
    },
    {
      "cell_type": "code",
      "source": [
        "# 8 Dado o dicionário pessoa = {'nome': 'João', 'idade': 30, 'cidade': 'São Paulo'}, remova a chave idade e imprima o dicionário resultante.\n",
        "\n",
        "pessoa = {'nome': 'João', 'idade': 30, 'cidade': 'São Paulo'}\n",
        "pessoa.pop('idade')\n",
        "print(pessoa)"
      ],
      "metadata": {
        "colab": {
          "base_uri": "https://localhost:8080/"
        },
        "id": "hG0p8CpO7Q3w",
        "outputId": "4b87fb06-57ac-4638-e58f-247aa85d4c65"
      },
      "execution_count": null,
      "outputs": [
        {
          "output_type": "stream",
          "name": "stdout",
          "text": [
            "{'nome': 'João', 'cidade': 'São Paulo'}\n"
          ]
        }
      ]
    },
    {
      "cell_type": "code",
      "source": [
        "# 9 Crie um dicionário chamado produto que contenha nome, preco e quantidade. Use um loop for para imprimir todos os pares chave/valor.\n",
        "\n",
        "produto = {\n",
        "    'nome': 'Camiseta',\n",
        "    'preco': 29.99,\n",
        "    'quantidade': 50\n",
        "}\n",
        "for chave, valor in produto.items():\n",
        "    print(chave, \":\", valor)"
      ],
      "metadata": {
        "colab": {
          "base_uri": "https://localhost:8080/"
        },
        "id": "kVjOslJA7Qvq",
        "outputId": "d43b3ffe-4c92-4852-9a95-0f763b818f48"
      },
      "execution_count": null,
      "outputs": [
        {
          "output_type": "stream",
          "name": "stdout",
          "text": [
            "nome : Camiseta\n",
            "preco : 29.99\n",
            "quantidade : 50\n"
          ]
        }
      ]
    },
    {
      "cell_type": "code",
      "source": [
        "# 10 Dado o dicionário estudante = {'nome': 'Maria', 'curso': 'Biologia', 'ano': 2}, verifique se a chave curso existe. Se existir, imprima \"A estudante está no curso de Biologia.\"\n",
        "\n",
        "estudante = {'nome': 'Maria', 'curso': 'Biologia', 'ano': 2}\n",
        "if 'curso' in estudante:\n",
        "    print(\"A estudante está no curso de Biologia.\")\n",
        "else:\n",
        "    print(\"A estudante não está no curso de Biologia.\")"
      ],
      "metadata": {
        "colab": {
          "base_uri": "https://localhost:8080/"
        },
        "id": "WSQyWggv7Qco",
        "outputId": "ac1839b4-7161-4ea1-a4aa-1d0fc7f43d4f"
      },
      "execution_count": null,
      "outputs": [
        {
          "output_type": "stream",
          "name": "stdout",
          "text": [
            "A estudante está no curso de Biologia.\n"
          ]
        }
      ]
    },
    {
      "cell_type": "markdown",
      "source": [],
      "metadata": {
        "id": "Qxbw_adVkCrl"
      }
    }
  ]
}
