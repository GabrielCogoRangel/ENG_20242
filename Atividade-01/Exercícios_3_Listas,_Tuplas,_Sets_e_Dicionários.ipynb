{
  "nbformat": 4,
  "nbformat_minor": 0,
  "metadata": {
    "colab": {
      "provenance": [],
      "collapsed_sections": [
        "Ho6kZEiyYnW0",
        "o2PvFfTSY3W0",
        "bSqolUXZECBA",
        "CQYN734Koi4u",
        "5QbeO3RF0gK1",
        "qbfpD1ajnuE5",
        "4x45pKcZoKji",
        "Gs2MKNCyO-XP",
        "mSIgNWg5vHeZ",
        "EqB8nmHCUyxS",
        "uk4HGkN1cjqo",
        "aRtCHzSt67E4",
        "cAkSk4s9kIMV",
        "fGeRaOzU0-Ok",
        "k2cpRjv-xFqH"
      ],
      "authorship_tag": "ABX9TyNnxeuxXs+Z3+hbiyr1iFQT",
      "include_colab_link": true
    },
    "kernelspec": {
      "name": "python3",
      "display_name": "Python 3"
    },
    "language_info": {
      "name": "python"
    }
  },
  "cells": [
    {
      "cell_type": "markdown",
      "metadata": {
        "id": "view-in-github",
        "colab_type": "text"
      },
      "source": [
        "<a href=\"https://colab.research.google.com/github/GabrielCogoRangel/ENG_20242/blob/main/Atividade-01/Exerc%C3%ADcios_3_Listas%2C_Tuplas%2C_Sets_e_Dicion%C3%A1rios.ipynb\" target=\"_parent\"><img src=\"https://colab.research.google.com/assets/colab-badge.svg\" alt=\"Open In Colab\"/></a>"
      ]
    },
    {
      "cell_type": "markdown",
      "source": [
        "# **2º Bimestre**"
      ],
      "metadata": {
        "id": "lqVRSMLl61yZ"
      }
    },
    {
      "cell_type": "markdown",
      "source": [
        "# **Exercícios (Aula 03) Listas, Tuplas, Sets e Dicionários**"
      ],
      "metadata": {
        "id": "fGeRaOzU0-Ok"
      }
    },
    {
      "cell_type": "code",
      "source": [
        "# 1. Crie uma lista contendo cinco números inteiros de sua escolha. Em seguida, percorra essa lista e imprima o valor de cada elemento multiplicado por 2. O resultado deve mostrar o novo valor de cada elemento, um por vez.\n",
        "\n",
        "lista = [1, 2, 3, 4, 5]\n",
        "for i in lista:\n",
        "    print(i * 2, end=\" \")"
      ],
      "metadata": {
        "colab": {
          "base_uri": "https://localhost:8080/"
        },
        "id": "Fg1Sq2O41Nw_",
        "outputId": "72670d57-63cc-404c-9b65-ad9829d6d3af"
      },
      "execution_count": null,
      "outputs": [
        {
          "output_type": "stream",
          "name": "stdout",
          "text": [
            "2 4 6 8 10 "
          ]
        }
      ]
    },
    {
      "cell_type": "code",
      "source": [
        "# 2. Dada a lista [\"maçã\", \"banana\", \"laranja\", \"uva\"], remova o item \"banana\" da lista e adicione a fruta \"melancia\" no lugar. Depois, mostre a nova lista atualizada com as alterações feitas.\n",
        "\n",
        "lista = [\"maçã\", \"banana\", \"laranja\", \"uva\"]\n",
        "lista.remove(\"banana\")\n",
        "lista.append(\"melancia\")\n",
        "print(lista)"
      ],
      "metadata": {
        "colab": {
          "base_uri": "https://localhost:8080/"
        },
        "id": "LXLAs4o11TGE",
        "outputId": "f7751459-5dcb-411b-b998-320e23742a53"
      },
      "execution_count": null,
      "outputs": [
        {
          "output_type": "stream",
          "name": "stdout",
          "text": [
            "['maçã', 'laranja', 'uva', 'melancia']\n"
          ]
        }
      ]
    },
    {
      "cell_type": "code",
      "source": [
        "# 3. Escreva um programa que receba uma lista de números inteiros e exiba qual é o maior número e qual é o menor número presente na lista. Certifique-se de mostrar ambos os valores ao final.\n",
        "\n",
        "lista = [1, 2, 3, 4, 5]\n",
        "print(max(lista))\n",
        "print(min(lista))"
      ],
      "metadata": {
        "colab": {
          "base_uri": "https://localhost:8080/"
        },
        "id": "_Pchh1Z_1S-r",
        "outputId": "e9875a0a-8950-474b-878c-8d374aa66f2e"
      },
      "execution_count": null,
      "outputs": [
        {
          "output_type": "stream",
          "name": "stdout",
          "text": [
            "5\n",
            "1\n"
          ]
        }
      ]
    },
    {
      "cell_type": "code",
      "source": [
        "# 4. Crie uma função que receba uma lista contendo várias palavras (strings). A função deve devolver uma nova lista que contenha a quantidade de letras de cada palavra da lista original. Exiba essa nova lista com o número de letras correspondente a cada palavra.\n",
        "\n",
        "palavras = [\"cachorro\", \"gato\", \"elefante\", \"tigre\"]\n",
        "quantidade_letras = [len(palavra) for palavra in palavras]\n",
        "print(quantidade_letras)\n"
      ],
      "metadata": {
        "colab": {
          "base_uri": "https://localhost:8080/"
        },
        "id": "xa1dQciP1S3H",
        "outputId": "6a0a68b3-f3fd-46e8-9687-d55088727512"
      },
      "execution_count": null,
      "outputs": [
        {
          "output_type": "stream",
          "name": "stdout",
          "text": [
            "[8, 4, 8, 5]\n"
          ]
        }
      ]
    },
    {
      "cell_type": "code",
      "source": [
        "# 5. Dada uma lista de números inteiros que você vai definir, ordene essa lista em ordem crescente e depois exiba o resultado da lista ordenada.\n",
        "\n",
        "lista = [1, 2, 3, 4, 5]\n",
        "lista.sort()\n",
        "print(lista)"
      ],
      "metadata": {
        "colab": {
          "base_uri": "https://localhost:8080/"
        },
        "id": "TwNLgSyv1Svq",
        "outputId": "28e604e6-66c7-4d62-8097-4bad8ebc3171"
      },
      "execution_count": null,
      "outputs": [
        {
          "output_type": "stream",
          "name": "stdout",
          "text": [
            "[1, 2, 3, 4, 5]\n"
          ]
        }
      ]
    },
    {
      "cell_type": "code",
      "source": [
        "# 6. Crie uma tupla que contenha os números de 1 a 5. Tente alterar o valor do segundo elemento dessa tupla e observe o que acontece. No final, explique por que você conseguiu ou não modificar o valor.\n",
        "\n",
        "tupla = (1, 2, 3, 4, 5)\n",
        "nova_tupla = tupla[:1] + (10,) + tupla[2:]\n",
        "print(nova_tupla)\n"
      ],
      "metadata": {
        "colab": {
          "base_uri": "https://localhost:8080/"
        },
        "id": "RPYNhhja1Sob",
        "outputId": "2013dbed-1d70-4eaf-cefc-0e155e95816d"
      },
      "execution_count": null,
      "outputs": [
        {
          "output_type": "stream",
          "name": "stdout",
          "text": [
            "(1, 10, 3, 4, 5)\n"
          ]
        }
      ]
    },
    {
      "cell_type": "code",
      "source": [
        "# 7. Escreva um programa que receba uma tupla contendo diversos números inteiros. O programa deve calcular e exibir a soma de todos os números presentes na tupla.\n",
        "\n",
        "tupla = (1, 2, 3, 4, 5)\n",
        "print(sum(tupla))"
      ],
      "metadata": {
        "colab": {
          "base_uri": "https://localhost:8080/"
        },
        "id": "wuKFCuU71ShL",
        "outputId": "418e39eb-19e6-408e-e990-012f4ef82329"
      },
      "execution_count": null,
      "outputs": [
        {
          "output_type": "stream",
          "name": "stdout",
          "text": [
            "15\n"
          ]
        }
      ]
    },
    {
      "cell_type": "code",
      "source": [
        "# 8. Dada uma tupla que contém cinco números, crie uma função que retorne o primeiro e o último número dessa tupla. O programa deve imprimir ambos os valores corretamente.\n",
        "\n",
        "tupla = (1, 2, 3, 4, 5)\n",
        "print(tupla[0], tupla[-1])"
      ],
      "metadata": {
        "colab": {
          "base_uri": "https://localhost:8080/"
        },
        "id": "lCNRwNoU1SZf",
        "outputId": "1d5a6b86-065b-4ea4-990c-db9fab5df7f8"
      },
      "execution_count": null,
      "outputs": [
        {
          "output_type": "stream",
          "name": "stdout",
          "text": [
            "1 5\n"
          ]
        }
      ]
    },
    {
      "cell_type": "code",
      "source": [
        "# 9. Converta a lista [\"a\", \"b\", \"c\", \"d\"] em uma tupla e, em seguida, exiba o tipo do novo objeto que foi criado. O programa deve deixar claro que o tipo mudou de lista para tupla.\n",
        "\n",
        "lista = [\"a\", \"b\", \"c\", \"d\"]\n",
        "print(\"Tipo antes da conversão:\", type(lista))\n",
        "tupla = tuple(lista)\n",
        "print(\"Tipo depois da conversão:\", type(tupla))"
      ],
      "metadata": {
        "colab": {
          "base_uri": "https://localhost:8080/"
        },
        "id": "KV_zl7xf1SR8",
        "outputId": "f9f044ed-0e81-402b-caec-bc5ea79bcfde"
      },
      "execution_count": null,
      "outputs": [
        {
          "output_type": "stream",
          "name": "stdout",
          "text": [
            "Tipo antes da conversão: <class 'list'>\n",
            "Tipo depois da conversão: <class 'tuple'>\n"
          ]
        }
      ]
    },
    {
      "cell_type": "code",
      "source": [
        "# 10. Crie uma tupla com três números inteiros e uma string. Depois, verifique se o número 3 está presente nessa tupla e mostre uma mensagem dizendo se o número foi encontrado ou não.\n",
        "\n",
        "tupla = (1, 2, 3, \"cachorro\")\n",
        "if 3 in tupla:\n",
        "    print(\"O número 3 foi encontrado na tupla.\")\n",
        "else:\n",
        "    print(\"O número 3 não foi encontrado na tupla.\")"
      ],
      "metadata": {
        "id": "8CH1G6KX1SKU",
        "colab": {
          "base_uri": "https://localhost:8080/"
        },
        "outputId": "df7ce519-232f-46bc-bd6b-5f9188b22e9f"
      },
      "execution_count": null,
      "outputs": [
        {
          "output_type": "stream",
          "name": "stdout",
          "text": [
            "O número 3 foi encontrado na tupla.\n"
          ]
        }
      ]
    },
    {
      "cell_type": "code",
      "source": [
        "# 11. Crie dois sets: set1 = {1, 2, 3, 4} e set2 = {3, 4, 5, 6}. Exiba a união dos dois sets (todos os elementos sem repetição), a interseção (elementos que aparecem nos dois sets) e a diferença (elementos presentes no primeiro set, mas não no segundo). Mostre os resultados de cada operação.\n",
        "\n",
        "set1 = {1, 2, 3, 4}\n",
        "set2 = {3, 4, 5, 6}\n",
        "print(set1.union(set2))\n",
        "print(set1.intersection(set2))"
      ],
      "metadata": {
        "id": "Lrq8E02k1SCu",
        "colab": {
          "base_uri": "https://localhost:8080/"
        },
        "outputId": "4e32334f-e20d-4ab5-cf1b-83f797088875"
      },
      "execution_count": null,
      "outputs": [
        {
          "output_type": "stream",
          "name": "stdout",
          "text": [
            "{1, 2, 3, 4, 5, 6}\n",
            "{3, 4}\n"
          ]
        }
      ]
    },
    {
      "cell_type": "code",
      "source": [
        "# 12. Dada a lista [1, 2, 2, 3, 4, 4, 5], remova os elementos duplicados transformando a lista em um set. Ao final, exiba o set resultante, que deve conter apenas valores únicos.\n",
        "\n",
        "lista = [1, 2, 2, 3, 4, 4, 5]\n",
        "set_sem_duplicatas = set(lista)\n",
        "print(set_sem_duplicatas)"
      ],
      "metadata": {
        "id": "EDD_cE4o1R7i",
        "colab": {
          "base_uri": "https://localhost:8080/"
        },
        "outputId": "2612c922-7707-4841-9283-98cc12e7f26c"
      },
      "execution_count": null,
      "outputs": [
        {
          "output_type": "stream",
          "name": "stdout",
          "text": [
            "{1, 2, 3, 4, 5}\n"
          ]
        }
      ]
    },
    {
      "cell_type": "code",
      "source": [
        "# 13. Crie um set contendo os valores {5, 10, 15, 20}. Adicione o número 25 a esse set e depois remova o valor 15. Mostre o set após cada alteração.\n",
        "\n",
        "set1 = {5, 10, 15, 20}\n",
        "set1.add(25)\n",
        "set1.remove(15)\n",
        "print(set1)"
      ],
      "metadata": {
        "id": "uZGGX-lQ1R0o",
        "colab": {
          "base_uri": "https://localhost:8080/"
        },
        "outputId": "12c08155-f2ff-4bae-f064-8d88ad9011ef"
      },
      "execution_count": null,
      "outputs": [
        {
          "output_type": "stream",
          "name": "stdout",
          "text": [
            "{5, 10, 20, 25}\n"
          ]
        }
      ]
    },
    {
      "cell_type": "code",
      "source": [
        "# 14. Verifique se o número 7 está presente no set {1, 2, 3, 4, 5}. O programa deve exibir uma mensagem informando se o número foi encontrado ou não no set.\n",
        "\n",
        "set1 = {1, 2, 3, 4, 5}\n",
        "if 7 in set1:\n",
        "    print(\"O número 7 está presente no set.\")\n",
        "else:\n",
        "    print(\"O número 7 não está presente no set.\")"
      ],
      "metadata": {
        "id": "YqGMlaL71Rtn",
        "colab": {
          "base_uri": "https://localhost:8080/"
        },
        "outputId": "1a173f11-7505-4229-a631-d40093aae847"
      },
      "execution_count": null,
      "outputs": [
        {
          "output_type": "stream",
          "name": "stdout",
          "text": [
            "O número 7 não está presente no set.\n"
          ]
        }
      ]
    },
    {
      "cell_type": "code",
      "source": [
        "# 15. Crie um set vazio e adicione vários valores a ele usando um laço de repetição (por exemplo, um for ou while). No final, mostre todos os valores armazenados no set.\n",
        "\n",
        "set1 = set()\n",
        "for i in range(1, 6):\n",
        "    set1.add(i)\n",
        "print(set1)"
      ],
      "metadata": {
        "id": "oloksuFm1Rmr",
        "colab": {
          "base_uri": "https://localhost:8080/"
        },
        "outputId": "43281fd6-324e-4d29-aeb3-a822f071d0b2"
      },
      "execution_count": null,
      "outputs": [
        {
          "output_type": "stream",
          "name": "stdout",
          "text": [
            "{1, 2, 3, 4, 5}\n"
          ]
        }
      ]
    },
    {
      "cell_type": "code",
      "source": [
        "# 16. Crie um dicionário com os pares chave-valor 'nome': 'Ana', 'idade': 22, 'curso': 'Engenharia'. Adicione uma nova chave 'universidade': 'USP' ao dicionário. Em seguida, exiba o dicionário completo com todas as informações.\n",
        "\n",
        "dicionario = {'Nome': 'Gabriel', 'Idade': 30, 'Curso': 'Engenharia Eletrica'}\n",
        "dicionario['Universidade'] = 'UVV'\n",
        "print(dicionario)"
      ],
      "metadata": {
        "id": "cBD60Bqx1RZI",
        "colab": {
          "base_uri": "https://localhost:8080/"
        },
        "outputId": "019ef08b-66f2-451f-cb45-fa54ea4e4ab1"
      },
      "execution_count": null,
      "outputs": [
        {
          "output_type": "stream",
          "name": "stdout",
          "text": [
            "{'Nome': 'Gabriel', 'Idade': 30, 'Curso': 'Engenharia Eletrica', 'Universidade': 'UVV'}\n"
          ]
        }
      ]
    },
    {
      "cell_type": "code",
      "source": [
        "# 17. Escreva um programa que percorra um dicionário com várias chaves e valores. Para cada par, imprima a chave e o valor no formato: Chave: X, Valor: Y. O dicionário pode conter qualquer informação que você preferir.\n",
        "\n",
        "dicionario = {'Nome': 'Gabriel', 'Idade': 30, 'Curso': 'Engenharia Eletrica'}\n",
        "for chave, valor in dicionario.items():\n",
        "    print(f\"Chave: {chave}, Valor: {valor}\")"
      ],
      "metadata": {
        "id": "vYkpUoUT1RSI",
        "colab": {
          "base_uri": "https://localhost:8080/"
        },
        "outputId": "bfffa0ae-e11d-4a2b-dd4e-8cc8f89e7425"
      },
      "execution_count": null,
      "outputs": [
        {
          "output_type": "stream",
          "name": "stdout",
          "text": [
            "Chave: Nome, Valor: Gabriel\n",
            "Chave: Idade, Valor: 30\n",
            "Chave: Curso, Valor: Engenharia Eletrica\n"
          ]
        }
      ]
    },
    {
      "cell_type": "code",
      "source": [
        "# 18. Crie um dicionário que relacione nomes de alunos às suas notas. Depois, crie uma função que calcule e exiba a média das notas desses alunos com base nas informações do dicionário.\n",
        "\n",
        "notas_alunos = {\n",
        "    'João': 8.5,\n",
        "    'Maria': 9.0,\n",
        "    'Pedro': 7.5,\n",
        "    'Ana': 9.5\n",
        "}\n",
        "\n",
        "media = sum(notas_alunos.values()) / len(notas_alunos)\n",
        "print(f\"A média das notas é: {media: .2f}\")"
      ],
      "metadata": {
        "id": "kOiEN_WX1RJG",
        "colab": {
          "base_uri": "https://localhost:8080/"
        },
        "outputId": "24efff07-e13f-4c9a-92bf-42d643697455"
      },
      "execution_count": null,
      "outputs": [
        {
          "output_type": "stream",
          "name": "stdout",
          "text": [
            "A média das notas é:  8.62\n"
          ]
        }
      ]
    },
    {
      "cell_type": "code",
      "source": [
        "# 19. Escreva um programa que permita ao usuário buscar o valor de uma chave específica em um dicionário. Caso a chave não exista, o programa deve exibir uma mensagem dizendo que a chave não foi encontrada. Teste o programa com diferentes chaves.\n",
        "\n",
        "dados = {'nome': 'Gabriel', 'idade': 30, 'curso': 'Engenharia Eletrica'}\n",
        "chave = input(\"Digite a chave que deseja buscar: \")\n",
        "if chave in dados:\n",
        "    print(f\"O valor da chave '{chave}' é: {dados[chave]}\")\n",
        "else:\n",
        "    print(f\"A chave '{chave}' não foi encontrada no dicionário.\")"
      ],
      "metadata": {
        "id": "NhjDTgb71Q7p",
        "colab": {
          "base_uri": "https://localhost:8080/"
        },
        "outputId": "d60a0341-05f4-4502-8838-b7eec3212eed"
      },
      "execution_count": null,
      "outputs": [
        {
          "output_type": "stream",
          "name": "stdout",
          "text": [
            "Digite a chave que deseja buscar: 20\n",
            "A chave '20' não foi encontrada no dicionário.\n"
          ]
        }
      ]
    },
    {
      "cell_type": "code",
      "source": [
        "# 20. Dado um dicionário que contém produtos e seus respectivos preços, como {'pão': 2.50, 'leite': 3.00, 'café': 4.50}, permita que o usuário altere o preço de um dos produtos e exiba o dicionário atualizado com o novo valor.\n",
        "\n",
        "dicionario = {'Pão': 2.50, 'Leite': 3.00, 'Café': 4.50}\n",
        "dicionario['Leite'] = 3.50\n",
        "print(dicionario)"
      ],
      "metadata": {
        "id": "_SJ5A00F11Jz",
        "colab": {
          "base_uri": "https://localhost:8080/"
        },
        "outputId": "fbc21866-8de5-40ee-def6-75e6e1f1270c"
      },
      "execution_count": null,
      "outputs": [
        {
          "output_type": "stream",
          "name": "stdout",
          "text": [
            "{'Pão': 2.5, 'Leite': 3.5, 'Café': 4.5}\n"
          ]
        }
      ]
    }
  ]
}