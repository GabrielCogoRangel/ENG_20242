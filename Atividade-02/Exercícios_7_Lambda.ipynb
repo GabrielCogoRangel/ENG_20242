{
  "nbformat": 4,
  "nbformat_minor": 0,
  "metadata": {
    "colab": {
      "provenance": [],
      "authorship_tag": "ABX9TyOrFTe+dTmsWIs8I/E9PYh6",
      "include_colab_link": true
    },
    "kernelspec": {
      "name": "python3",
      "display_name": "Python 3"
    },
    "language_info": {
      "name": "python"
    }
  },
  "cells": [
    {
      "cell_type": "markdown",
      "metadata": {
        "id": "view-in-github",
        "colab_type": "text"
      },
      "source": [
        "<a href=\"https://colab.research.google.com/github/GabrielCogoRangel/ENG_20242/blob/main/Atividade-02/Exerc%C3%ADcios_7_Lambda.ipynb\" target=\"_parent\"><img src=\"https://colab.research.google.com/assets/colab-badge.svg\" alt=\"Open In Colab\"/></a>"
      ]
    },
    {
      "cell_type": "markdown",
      "source": [
        "# **2º Bimestre**"
      ],
      "metadata": {
        "id": "lqVRSMLl61yZ"
      }
    },
    {
      "cell_type": "markdown",
      "source": [
        "# **Exercícios (Aula 07)**"
      ],
      "metadata": {
        "id": "fpef119gBUxx"
      }
    },
    {
      "cell_type": "code",
      "source": [
        "# 1. Crie uma função lambda que some dois números e teste com os valores 5 e 3.\n",
        "sooma = lambda x,y: x+y\n",
        "sooma(5,3)"
      ],
      "metadata": {
        "colab": {
          "base_uri": "https://localhost:8080/"
        },
        "id": "qKufEFzxkJoc",
        "outputId": "e3671c74-0382-4a46-f689-c7d7617785ac"
      },
      "execution_count": null,
      "outputs": [
        {
          "output_type": "stream",
          "name": "stdout",
          "text": [
            "15\n"
          ]
        }
      ]
    },
    {
      "cell_type": "code",
      "source": [
        "# 2. Crie uma função lambda que multiplique dois números e teste com os valores 4 e 5.\n",
        "multiplicacao = lambda x,y: x*y\n",
        "multiplicacao(4,5)"
      ],
      "metadata": {
        "colab": {
          "base_uri": "https://localhost:8080/"
        },
        "id": "aZ_tf7JKkRxA",
        "outputId": "3a6f939a-da34-4805-e2d7-852a1788b1b4"
      },
      "execution_count": null,
      "outputs": [
        {
          "output_type": "execute_result",
          "data": {
            "text/plain": [
              "20"
            ]
          },
          "metadata": {},
          "execution_count": 1
        }
      ]
    },
    {
      "cell_type": "code",
      "source": [
        "# 3. Crie uma função lambda que retorne o comprimento de uma string e teste com a string \"Olá, mundo!\".\n",
        "comprimento = lambda x: len(x)\n",
        "comprimento(\"Olá, mundo!\")"
      ],
      "metadata": {
        "colab": {
          "base_uri": "https://localhost:8080/"
        },
        "id": "orgMqo0OkRpY",
        "outputId": "dce7a8fa-7411-4599-8d6e-f793b1e0f473"
      },
      "execution_count": null,
      "outputs": [
        {
          "output_type": "execute_result",
          "data": {
            "text/plain": [
              "11"
            ]
          },
          "metadata": {},
          "execution_count": 2
        }
      ]
    },
    {
      "cell_type": "code",
      "source": [
        "# 4. Crie uma função lambda que retorne o quadrado de um número e teste com o valor 5.\n",
        "quadrado = lambda x: x**2\n",
        "quadrado(5)"
      ],
      "metadata": {
        "colab": {
          "base_uri": "https://localhost:8080/"
        },
        "id": "kx6R4PICkRhy",
        "outputId": "12991e3c-ffef-44b6-caf4-f6da51de1262"
      },
      "execution_count": null,
      "outputs": [
        {
          "output_type": "execute_result",
          "data": {
            "text/plain": [
              "25"
            ]
          },
          "metadata": {},
          "execution_count": 3
        }
      ]
    },
    {
      "cell_type": "code",
      "source": [
        "# 5. Use a função filter() com uma função lambda para filtrar os números pares de uma lista [1, 2, 3, 4, 5, 6, 7, 8, 9, 10].\n",
        "numeros = [1, 2, 3, 4, 5, 6, 7, 8, 9, 10]\n",
        "pares = filter(lambda x: x % 2 == 0, numeros)\n",
        "resultado_pares = list(pares)\n",
        "resultado_pares"
      ],
      "metadata": {
        "colab": {
          "base_uri": "https://localhost:8080/"
        },
        "id": "E-mSdNVFkRaI",
        "outputId": "2d85d41c-4ce6-4254-8796-19d3d0defa2d"
      },
      "execution_count": null,
      "outputs": [
        {
          "output_type": "execute_result",
          "data": {
            "text/plain": [
              "[2, 4, 6, 8, 10]"
            ]
          },
          "metadata": {},
          "execution_count": 5
        }
      ]
    },
    {
      "cell_type": "code",
      "source": [
        "# 6. Crie uma função lambda que eleve um número ao cubo e teste com o valor 3.\n",
        "numero = lambda x: x**3\n",
        "numero(3)"
      ],
      "metadata": {
        "colab": {
          "base_uri": "https://localhost:8080/"
        },
        "id": "05ncFL2CkQMw",
        "outputId": "01998fd3-8df5-425e-89b9-8ddddf226c8f"
      },
      "execution_count": null,
      "outputs": [
        {
          "output_type": "execute_result",
          "data": {
            "text/plain": [
              "27"
            ]
          },
          "metadata": {},
          "execution_count": 6
        }
      ]
    },
    {
      "cell_type": "code",
      "source": [
        "# 7. Use a função sorted() com uma função lambda para ordenar uma lista de tuplas [(1, 3), (4, 1), (5, 2), (2, 4)] pelo segundo valor.\n",
        "numeros = [(1, 3), (4, 1), (5, 2), (2, 4)]\n",
        "ordenar = sorted(numeros, key=lambda x: x[1])\n",
        "ordenar"
      ],
      "metadata": {
        "colab": {
          "base_uri": "https://localhost:8080/"
        },
        "id": "EzSK6-LVkQI_",
        "outputId": "b2ef240c-5184-4939-bac6-bb8e6fdede21"
      },
      "execution_count": null,
      "outputs": [
        {
          "output_type": "execute_result",
          "data": {
            "text/plain": [
              "[(4, 1), (5, 2), (1, 3), (2, 4)]"
            ]
          },
          "metadata": {},
          "execution_count": 8
        }
      ]
    },
    {
      "cell_type": "code",
      "source": [
        "# 8. Crie uma função lambda que converta uma temperatura de Celsius para Fahrenheit e teste com o valor 0.\n",
        "celsius = lambda x: (x * 9/5) + 32\n",
        "celsius(0)"
      ],
      "metadata": {
        "colab": {
          "base_uri": "https://localhost:8080/"
        },
        "id": "61_9hfVJkQFQ",
        "outputId": "a794a72e-d015-4295-d56e-2eb6a3cbba06"
      },
      "execution_count": null,
      "outputs": [
        {
          "output_type": "execute_result",
          "data": {
            "text/plain": [
              "32.0"
            ]
          },
          "metadata": {},
          "execution_count": 9
        }
      ]
    },
    {
      "cell_type": "code",
      "source": [
        "# 9. Use a função map() com uma função lambda para mapear uma lista de nomes [\"Ana\", \"João\", \"Carlos\", \"Beatriz\"] para seus comprimentos.\n",
        "nomes = [\"Ana\", \"João\", \"Carlos\", \"Beatriz\"]\n",
        "comprimentos = list(map(lambda nome: len(nome), nomes))\n",
        "print(comprimentos)"
      ],
      "metadata": {
        "colab": {
          "base_uri": "https://localhost:8080/"
        },
        "id": "EJljoEIRkPy_",
        "outputId": "0a966182-aa2c-4271-9d05-ced6244c3aa0"
      },
      "execution_count": null,
      "outputs": [
        {
          "output_type": "stream",
          "name": "stdout",
          "text": [
            "[3, 4, 6, 7]\n"
          ]
        }
      ]
    },
    {
      "cell_type": "code",
      "source": [
        "# 10. Use a função reduce() com uma função lambda para calcular a soma acumulada de uma lista de números [1, 2, 3, 4, 5].\n",
        "from functools import reduce\n",
        "numeros = [1, 2, 3, 4, 5]\n",
        "soma_acumulada = reduce(lambda x, y: x + y, numeros)\n",
        "print(soma_acumulada)"
      ],
      "metadata": {
        "id": "Acw1pNcSkPn4",
        "colab": {
          "base_uri": "https://localhost:8080/"
        },
        "outputId": "ea349a94-3a0b-46f0-a697-eb4cc1c0793f"
      },
      "execution_count": null,
      "outputs": [
        {
          "output_type": "stream",
          "name": "stdout",
          "text": [
            "15\n"
          ]
        }
      ]
    }
  ]
}