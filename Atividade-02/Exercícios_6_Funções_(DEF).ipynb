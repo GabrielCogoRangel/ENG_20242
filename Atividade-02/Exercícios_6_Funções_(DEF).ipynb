{
  "nbformat": 4,
  "nbformat_minor": 0,
  "metadata": {
    "colab": {
      "provenance": [],
      "collapsed_sections": [
        "cAkSk4s9kIMV"
      ],
      "authorship_tag": "ABX9TyN+ucgZ71t582S5hhv3J/zQ",
      "include_colab_link": true
    },
    "kernelspec": {
      "name": "python3",
      "display_name": "Python 3"
    },
    "language_info": {
      "name": "python"
    }
  },
  "cells": [
    {
      "cell_type": "markdown",
      "metadata": {
        "id": "view-in-github",
        "colab_type": "text"
      },
      "source": [
        "<a href=\"https://colab.research.google.com/github/GabrielCogoRangel/ENG_20242/blob/main/Atividade-02/Exerc%C3%ADcios_6_Fun%C3%A7%C3%B5es_(DEF)ipynb.ipynb\" target=\"_parent\"><img src=\"https://colab.research.google.com/assets/colab-badge.svg\" alt=\"Open In Colab\"/></a>"
      ]
    },
    {
      "cell_type": "markdown",
      "source": [
        "# **2º Bimestre**"
      ],
      "metadata": {
        "id": "lqVRSMLl61yZ"
      }
    },
    {
      "cell_type": "markdown",
      "source": [
        "# **Exercícios (Aula 06)**"
      ],
      "metadata": {
        "id": "cAkSk4s9kIMV"
      }
    },
    {
      "cell_type": "code",
      "source": [
        "# 1. Crie uma função que receba uma lista de números e retorne uma lista contendo apenas os números ímpares.\n",
        "lista = [1, 2, 3, 4, 5, 6, 7, 8, 9, 10]\n",
        "def numeros_impares(lista):\n",
        "    impares = []\n",
        "    for numero in lista:\n",
        "        if numero % 2 != 0:\n",
        "            impares.append(numero)\n",
        "    return impares\n",
        "print(numeros_impares(lista))"
      ],
      "metadata": {
        "colab": {
          "base_uri": "https://localhost:8080/"
        },
        "id": "el1VMDCFvrjk",
        "outputId": "05456a25-235a-4f30-9f3e-66eb604456bd"
      },
      "execution_count": null,
      "outputs": [
        {
          "output_type": "stream",
          "name": "stdout",
          "text": [
            "[1, 3, 5, 7, 9]\n"
          ]
        }
      ]
    },
    {
      "cell_type": "code",
      "source": [
        "# 2. Escreva uma função que receba uma lista e retorne uma nova lista com o dobro de cada elemento.\n",
        "lista = [1, 2, 3, 4, 5, 6, 7, 8, 9, 10]\n",
        "def dobro_lista(lista):\n",
        "    dobro = []\n",
        "    for numero in lista:\n",
        "        dobro.append(numero * 2)\n",
        "    return dobro\n",
        "print(dobro_lista(lista))"
      ],
      "metadata": {
        "colab": {
          "base_uri": "https://localhost:8080/"
        },
        "id": "OrpVwpXX1Ljk",
        "outputId": "35985455-57b1-4f67-83a9-f82f5637eecb"
      },
      "execution_count": null,
      "outputs": [
        {
          "output_type": "stream",
          "name": "stdout",
          "text": [
            "[2, 4, 6, 8, 10, 12, 14, 16, 18, 20]\n"
          ]
        }
      ]
    },
    {
      "cell_type": "code",
      "source": [
        "# 3. Faça uma função que receba uma lista e retorne uma lista sem duplicatas.\n",
        "lista = [1, 2, 3, 4, 5, 6, 7, 8, 9, 10]\n",
        "def sem_duplicatas(lista):\n",
        "    sem_duplicatas = []\n",
        "    for numero in lista:\n",
        "        if numero not in sem_duplicatas:\n",
        "            sem_duplicatas.append(numero)\n",
        "    return sem_duplicatas\n",
        "    print(sem_duplicatas)\n",
        "print(sem_duplicatas(lista))"
      ],
      "metadata": {
        "colab": {
          "base_uri": "https://localhost:8080/"
        },
        "id": "U_joF6Sv1LfW",
        "outputId": "e4426eed-0433-4ee1-cbfd-4f64d43d15b9"
      },
      "execution_count": null,
      "outputs": [
        {
          "output_type": "stream",
          "name": "stdout",
          "text": [
            "[1, 2, 3, 4, 5, 6, 7, 8, 9, 10]\n"
          ]
        }
      ]
    },
    {
      "cell_type": "code",
      "source": [
        "# 4. Crie uma função que receba uma lista e um valor divisor e retorne uma lista dos elementos que são divisíveis pelo divisor.\n",
        "lista = [1, 2, 3, 4, 5, 6, 7, 8, 9, 10]\n",
        "def divisiveis_por(lista, divisor):\n",
        "    divisiveis = []\n",
        "    for numero in lista:\n",
        "        if numero % divisor == 0:\n",
        "            divisiveis.append(numero)\n",
        "    return divisiveis\n",
        "    print(divisiveis)\n",
        "print(divisiveis_por(lista, 2))"
      ],
      "metadata": {
        "colab": {
          "base_uri": "https://localhost:8080/"
        },
        "id": "8bykbQBC1LbU",
        "outputId": "8f1fe6b5-f900-4a26-ab76-55287ffed5a6"
      },
      "execution_count": null,
      "outputs": [
        {
          "output_type": "stream",
          "name": "stdout",
          "text": [
            "[2, 4, 6, 8, 10]\n"
          ]
        }
      ]
    },
    {
      "cell_type": "code",
      "source": [
        "# 5. Escreva uma função que receba duas listas e retorne um conjunto com os elementos que aparecem em ambas.\n",
        "def elementos_comuns(lista1, lista2):\n",
        "    return set(lista1) & set(lista2)\n",
        "lista1 = [1, 2, 3, 4]\n",
        "lista2 = [3, 4, 5, 6]\n",
        "resultado = elementos_comuns(lista1, lista2)\n",
        "print(resultado)"
      ],
      "metadata": {
        "id": "qlTDZj1V1LXE",
        "colab": {
          "base_uri": "https://localhost:8080/"
        },
        "outputId": "67b81f0f-f504-4531-e909-d1f07c527d1e"
      },
      "execution_count": null,
      "outputs": [
        {
          "output_type": "stream",
          "name": "stdout",
          "text": [
            "{3, 4}\n"
          ]
        }
      ]
    },
    {
      "cell_type": "code",
      "source": [
        "# 6. Crie uma função que receba uma lista e retorne uma nova lista com os elementos em ordem inversa.\n",
        "lista = [1, 2, 3, 4, 5, 6, 7, 8, 9, 10]\n",
        "def ordem_inversa(lista):\n",
        "    return lista[::-1]\n",
        "print(ordem_inversa(lista))"
      ],
      "metadata": {
        "id": "dornO8tw1LSk",
        "colab": {
          "base_uri": "https://localhost:8080/"
        },
        "outputId": "fb268906-65c4-44d9-eefe-a2755875e060"
      },
      "execution_count": null,
      "outputs": [
        {
          "output_type": "stream",
          "name": "stdout",
          "text": [
            "[10, 9, 8, 7, 6, 5, 4, 3, 2, 1]\n"
          ]
        }
      ]
    },
    {
      "cell_type": "code",
      "source": [
        "# 7. Escreva uma função que receba uma lista de números e retorne uma lista contendo o quadrado de cada número.\n",
        "def quadrado_lista(lista):\n",
        "    return [x**2 for x in lista]\n",
        "lista = [1, 2, 3, 4, 5]\n",
        "lista_quadrados = quadrado_lista(lista)\n",
        "print(lista_quadrados)"
      ],
      "metadata": {
        "id": "uuV00dCn1LNc",
        "colab": {
          "base_uri": "https://localhost:8080/"
        },
        "outputId": "49c2750d-378e-4b16-fa37-e0d5de3c64b1"
      },
      "execution_count": null,
      "outputs": [
        {
          "output_type": "stream",
          "name": "stdout",
          "text": [
            "[1, 4, 9, 16, 25]\n"
          ]
        }
      ]
    },
    {
      "cell_type": "code",
      "source": [
        "# 8. Crie uma função que receba uma lista e um valor, e retorne uma lista com os elementos maiores que esse valor.\n",
        "def elementos_maiores_que(lista, valor):\n",
        "    return [x for x in lista if x > valor]\n",
        "lista = [1, 5, 8, 3, 10, 2]\n",
        "valor = 4\n",
        "resultado = elementos_maiores_que(lista, valor)\n",
        "print(resultado)\n"
      ],
      "metadata": {
        "id": "F0r_NLA_1LI3",
        "colab": {
          "base_uri": "https://localhost:8080/"
        },
        "outputId": "88406781-2ef2-42a3-fc4b-add4836d3dcc"
      },
      "execution_count": null,
      "outputs": [
        {
          "output_type": "stream",
          "name": "stdout",
          "text": [
            "[5, 8, 10]\n"
          ]
        }
      ]
    },
    {
      "cell_type": "code",
      "source": [
        "# 9. Escreva uma função que receba duas listas e retorne uma lista dos elementos que estão em apenas uma das listas.\n",
        "def elementos_unicos(lista1, lista2):\n",
        "    return list(set(lista1) ^ set(lista2))\n",
        "lista1 = [1, 2, 3, 4]\n",
        "lista2 = [3, 4, 5, 6]\n",
        "resultado = elementos_unicos(lista1, lista2)\n",
        "print(resultado)"
      ],
      "metadata": {
        "id": "WbKRaUcW1LC1",
        "colab": {
          "base_uri": "https://localhost:8080/"
        },
        "outputId": "81bf8a34-0c33-4b63-932b-154f3333dea6"
      },
      "execution_count": null,
      "outputs": [
        {
          "output_type": "stream",
          "name": "stdout",
          "text": [
            "[1, 2, 5, 6]\n"
          ]
        }
      ]
    },
    {
      "cell_type": "code",
      "source": [
        "# 10. Faça uma função que receba uma lista e retorne um conjunto dos elementos únicos.\n",
        "def conjunto_unicos(lista):\n",
        "    return set(lista)\n",
        "lista = [1, 2, 3, 4, 2, 3, 5]\n",
        "resultado = conjunto_unicos(lista)\n",
        "print(resultado)"
      ],
      "metadata": {
        "id": "8PEYKZP_1K-c",
        "colab": {
          "base_uri": "https://localhost:8080/"
        },
        "outputId": "23a26a65-8c0e-47f7-b74c-4631b9248bd1"
      },
      "execution_count": null,
      "outputs": [
        {
          "output_type": "stream",
          "name": "stdout",
          "text": [
            "{1, 2, 3, 4, 5}\n"
          ]
        }
      ]
    },
    {
      "cell_type": "code",
      "source": [
        "# 11. Crie uma função que receba duas listas e retorne uma lista dos elementos únicos que estão em ambas.\n",
        "def elementos_unicos_em_ambas(lista1, lista2):\n",
        "    return list(set(lista1) & set(lista2))\n",
        "lista1 = [1, 2, 2, 3, 4]\n",
        "lista2 = [3, 4, 4, 5, 6]\n",
        "resultado = elementos_unicos_em_ambas(lista1, lista2)\n",
        "print(resultado)"
      ],
      "metadata": {
        "id": "aEzl2NEQ1K5s",
        "colab": {
          "base_uri": "https://localhost:8080/"
        },
        "outputId": "850e4a01-48a5-4624-bb0a-57fa5889da3d"
      },
      "execution_count": null,
      "outputs": [
        {
          "output_type": "stream",
          "name": "stdout",
          "text": [
            "[3, 4]\n"
          ]
        }
      ]
    },
    {
      "cell_type": "code",
      "source": [
        "# 12. Escreva uma função que receba uma lista e retorne uma lista contendo os elementos que aparecem mais de uma vez.\n",
        "def elementos_duplicados(lista):\n",
        "    return [elemento for elemento in set(lista) if lista.count(elemento) > 1]\n",
        "lista = [1, 2, 2, 3, 4, 4, 5, 6, 6]\n",
        "resultado = elementos_duplicados(lista)\n",
        "print(resultado)"
      ],
      "metadata": {
        "id": "KbE8kees1K0N",
        "colab": {
          "base_uri": "https://localhost:8080/"
        },
        "outputId": "cf892ac5-bcda-4137-b308-aad34464ae88"
      },
      "execution_count": null,
      "outputs": [
        {
          "output_type": "stream",
          "name": "stdout",
          "text": [
            "[2, 4, 6]\n"
          ]
        }
      ]
    },
    {
      "cell_type": "code",
      "source": [
        "# 13. Faça uma função que receba uma lista de números e retorne uma lista dos números pares.\n",
        "def numeros_pares(lista):\n",
        "    return [numero for numero in lista if numero % 2 == 0]\n",
        "lista = [1, 2, 3, 4, 5, 6]\n",
        "resultado = numeros_pares(lista)\n",
        "print(resultado)"
      ],
      "metadata": {
        "id": "PF_dLCTp1KvE",
        "colab": {
          "base_uri": "https://localhost:8080/"
        },
        "outputId": "987240e9-19e3-4128-a2b2-225e3de9ab9d"
      },
      "execution_count": null,
      "outputs": [
        {
          "output_type": "stream",
          "name": "stdout",
          "text": [
            "[2, 4, 6]\n"
          ]
        }
      ]
    },
    {
      "cell_type": "code",
      "source": [
        "# 14. Escreva uma função que receba uma lista de números e um valor, e retorne uma lista com os índices dos elementos maiores que o valor.\n",
        "def indices_maiores_que_valor(lista, valor):\n",
        "    indices = []\n",
        "    for i in range(len(lista)):\n",
        "        if lista[i] > valor:\n",
        "            indices.append(i)\n",
        "    return indices\n",
        "numeros = [1, 5, 8, 12, 3, 7]\n",
        "valor = 5\n",
        "print(indices_maiores_que_valor(numeros, valor))"
      ],
      "metadata": {
        "id": "HB-cy1lu1Ko8",
        "colab": {
          "base_uri": "https://localhost:8080/"
        },
        "outputId": "46a15133-c503-468f-f98a-eeefab4d2f90"
      },
      "execution_count": null,
      "outputs": [
        {
          "output_type": "stream",
          "name": "stdout",
          "text": [
            "[2, 3, 5]\n"
          ]
        }
      ]
    },
    {
      "cell_type": "code",
      "source": [
        "# 15. Crie uma função que receba uma lista de strings e retorne uma lista com o tamanho de cada string.\n",
        "def tamanho_strings(lista):\n",
        "    return [len(s) for s in lista]\n",
        "lista = [\"maçã\", \"banana\", \"laranja\"]\n",
        "resultado = tamanho_strings(lista)\n",
        "print(resultado)"
      ],
      "metadata": {
        "id": "F21cXX5u1Kcc",
        "colab": {
          "base_uri": "https://localhost:8080/"
        },
        "outputId": "7acd3850-809a-440f-871b-dc2d5e1a4056"
      },
      "execution_count": null,
      "outputs": [
        {
          "output_type": "stream",
          "name": "stdout",
          "text": [
            "[4, 6, 7]\n"
          ]
        }
      ]
    },
    {
      "cell_type": "code",
      "source": [
        "# 16. Escreva uma função que receba uma lista de números e retorne uma lista contendo cada número elevado ao cubo.\n",
        "def cubo_lista(lista):\n",
        "    return [x**3 for x in lista]\n",
        "lista = [1, 2, 3, 4, 5]\n",
        "lista_cubos = cubo_lista(lista)\n",
        "print(lista_cubos)"
      ],
      "metadata": {
        "id": "YNX9fSW01KT8",
        "colab": {
          "base_uri": "https://localhost:8080/"
        },
        "outputId": "144f51da-da8d-40cf-8482-347e2caf35ac"
      },
      "execution_count": null,
      "outputs": [
        {
          "output_type": "stream",
          "name": "stdout",
          "text": [
            "[1, 8, 27, 64, 125]\n"
          ]
        }
      ]
    },
    {
      "cell_type": "code",
      "source": [
        "# 17. Crie uma função que receba uma lista e retorne uma lista de todos os elementos únicos.\n",
        "def elementos_unicos(lista):\n",
        "    return list(set(lista))\n",
        "lista = [1, 2, 2, 3, 4, 4, 5]\n",
        "resultado = elementos_unicos(lista)\n",
        "print(resultado)"
      ],
      "metadata": {
        "id": "anctgAUf11l7",
        "colab": {
          "base_uri": "https://localhost:8080/"
        },
        "outputId": "c8d420a6-0158-4c44-b99c-57baec119b0e"
      },
      "execution_count": null,
      "outputs": [
        {
          "output_type": "stream",
          "name": "stdout",
          "text": [
            "[1, 2, 3, 4, 5]\n"
          ]
        }
      ]
    },
    {
      "cell_type": "code",
      "source": [
        "# 18. Escreva uma função que receba uma lista de strings e retorne uma lista contendo as strings que começam com uma letra maiúscula.\n",
        "def strings_maiusculas(lista):\n",
        "    return [s for s in lista if s[0].isupper()]\n",
        "lista = [\"Maçã\", \"Banana\", \"Laranja\"]\n",
        "resultado = strings_maiusculas(lista)\n",
        "print(resultado)"
      ],
      "metadata": {
        "id": "q3iQ4H1N11Y7",
        "colab": {
          "base_uri": "https://localhost:8080/"
        },
        "outputId": "993f4ac0-338d-4da2-9af4-09504ae98c7d"
      },
      "execution_count": null,
      "outputs": [
        {
          "output_type": "stream",
          "name": "stdout",
          "text": [
            "['Maçã', 'Banana', 'Laranja']\n"
          ]
        }
      ]
    },
    {
      "cell_type": "code",
      "source": [
        "# 19. Faça uma função que receba uma lista de números e retorne uma lista contendo apenas os múltiplos de 3.\n",
        "def multiplos_de_3(lista):\n",
        "    return [num for num in lista if num % 3 == 0]\n",
        "lista = [1, 2, 3, 4, 5, 6, 9, 12]\n",
        "resultado = multiplos_de_3(lista)\n",
        "print(resultado)"
      ],
      "metadata": {
        "id": "Imk_Qd2v11Lb",
        "colab": {
          "base_uri": "https://localhost:8080/"
        },
        "outputId": "a1a30b8c-dd28-4cbd-c0af-1b873fad3c15"
      },
      "execution_count": null,
      "outputs": [
        {
          "output_type": "stream",
          "name": "stdout",
          "text": [
            "[3, 6, 9, 12]\n"
          ]
        }
      ]
    },
    {
      "cell_type": "code",
      "source": [
        "# 20. Escreva uma função que receba duas listas e retorne uma lista com a interseção ordenada de forma crescente entre elas.\n",
        "def interseccao_ordenada(lista1, lista2):\n",
        "    return sorted(list(set(lista1) & set(lista2)))\n",
        "lista1 = [1, 2, 3, 4, 5]\n",
        "lista2 = [3, 4, 6, 7]\n",
        "resultado = interseccao_ordenada(lista1, lista2)\n",
        "print(resultado)"
      ],
      "metadata": {
        "id": "AqZeozHc19Ry",
        "colab": {
          "base_uri": "https://localhost:8080/"
        },
        "outputId": "3ae44dab-f603-4bf5-8df2-98473efb2a0c"
      },
      "execution_count": null,
      "outputs": [
        {
          "output_type": "stream",
          "name": "stdout",
          "text": [
            "[3, 4]\n"
          ]
        }
      ]
    }
  ]
}
