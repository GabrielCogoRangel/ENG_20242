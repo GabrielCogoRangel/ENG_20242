{
  "nbformat": 4,
  "nbformat_minor": 0,
  "metadata": {
    "colab": {
      "provenance": [],
      "authorship_tag": "ABX9TyMVOuj0RQV2M31YrGzLWu4G",
      "include_colab_link": true
    },
    "kernelspec": {
      "name": "python3",
      "display_name": "Python 3"
    },
    "language_info": {
      "name": "python"
    }
  },
  "cells": [
    {
      "cell_type": "markdown",
      "metadata": {
        "id": "view-in-github",
        "colab_type": "text"
      },
      "source": [
        "<a href=\"https://colab.research.google.com/github/GabrielCogoRangel/ENG_20242/blob/main/Atividade-02/Exerc%C3%ADcios_8_Func%C3%B5es_Lambda.ipynb\" target=\"_parent\"><img src=\"https://colab.research.google.com/assets/colab-badge.svg\" alt=\"Open In Colab\"/></a>"
      ]
    },
    {
      "cell_type": "markdown",
      "source": [
        "# **2º Bimestre**"
      ],
      "metadata": {
        "id": "lqVRSMLl61yZ"
      }
    },
    {
      "cell_type": "markdown",
      "source": [
        "# **Exercícios (Aula 08)**"
      ],
      "metadata": {
        "id": "fpef119gBUxx"
      }
    },
    {
      "cell_type": "code",
      "source": [
        "# 1 - Crie uma função Lambda para que o usuário digite o seu nome e a sua cidade. O programa deve exibir \"Olá, [nome]! Você vive em [cidade].“\n",
        "saudacao = lambda nome, cidade: f\"Olá, {nome}! Você vive em {cidade}.\"\n",
        "nome = input(\"Digite seu nome: \")\n",
        "cidade = input(\"Digite sua cidade: \")\n",
        "print(saudacao(nome, cidade))"
      ],
      "metadata": {
        "colab": {
          "base_uri": "https://localhost:8080/"
        },
        "id": "qKufEFzxkJoc",
        "outputId": "9921dc3a-6e30-4e09-ebff-e1c65d23195c"
      },
      "execution_count": null,
      "outputs": [
        {
          "output_type": "stream",
          "name": "stdout",
          "text": [
            "Digite seu nome: Gabriel\n",
            "Digite sua cidade: Cariacica\n",
            "Olá, Gabriel! Você vive em Cariacica.\n"
          ]
        }
      ]
    },
    {
      "cell_type": "code",
      "source": [
        "# 2 - Crie uma função Lambda para que o usuário digite o comprimento e a largura de um retângulo. O programa deve exibir a área e o perímetro do retângulo.\n",
        "area = lambda comprimento, largura: comprimento * largura\n",
        "perimetro = lambda comprimento, largura: 2 * (comprimento + largura)\n",
        "comprimento = float(input(\"Digite o comprimento do retângulo: \"))\n",
        "largura = float(input(\"Digite a largura do retângulo: \"))\n",
        "print(f\"A área do retângulo é: {area(comprimento, largura)}\")\n",
        "print(f\"O perímetro do retângulo é: {perimetro(comprimento, largura)}\")"
      ],
      "metadata": {
        "colab": {
          "base_uri": "https://localhost:8080/"
        },
        "id": "aZ_tf7JKkRxA",
        "outputId": "f8462544-0665-4e89-a582-692e7aa59184"
      },
      "execution_count": null,
      "outputs": [
        {
          "output_type": "stream",
          "name": "stdout",
          "text": [
            "Digite o comprimento do retângulo: 5\n",
            "Digite a largura do retângulo: 5\n",
            "A área do retângulo é: 25.0\n",
            "O perímetro do retângulo é: 20.0\n"
          ]
        }
      ]
    },
    {
      "cell_type": "code",
      "source": [
        "# 3 - Crie uma função Lambda para que o usuário digite uma medida em metros. O programa deve converter essa medida para centímetros e milímetros e exibir o resultado.\n",
        "converter = lambda metros: (metros * 100, metros * 1000)\n",
        "metros = float(input(\"Digite a medida em metros: \"))\n",
        "centimetros, milimetros = converter(metros)\n",
        "print(f\"A medida em centímetros é: {centimetros} cm\")\n",
        "print(f\"A medida em milímetros é: {milimetros} mm\")"
      ],
      "metadata": {
        "colab": {
          "base_uri": "https://localhost:8080/"
        },
        "id": "orgMqo0OkRpY",
        "outputId": "9a2fc717-afe5-4934-a0fa-dad8904546c3"
      },
      "execution_count": null,
      "outputs": [
        {
          "output_type": "stream",
          "name": "stdout",
          "text": [
            "Digite a medida em metros: 100\n",
            "A medida em centímetros é: 10000.0 cm\n",
            "A medida em milímetros é: 100000.0 mm\n"
          ]
        }
      ]
    },
    {
      "cell_type": "code",
      "source": [
        "# 4 - Crie uma função Lambda para que o usuário digite a largura e a altura de um retângulo. O programa deve calcular e exibir a área do retângulo.base = float(input(\"Digite o tamanho da base do retangulo (cm):\"))\n",
        "calcular_area = lambda largura, altura: largura * altura\n",
        "largura = float(input(\"Digite a largura do retângulo (cm): \"))\n",
        "altura = float(input(\"Digite a altura do retângulo (cm): \"))\n",
        "print(f\"A área do retângulo é: {calcular_area(largura, altura)} cm²\")"
      ],
      "metadata": {
        "colab": {
          "base_uri": "https://localhost:8080/"
        },
        "id": "kx6R4PICkRhy",
        "outputId": "2ab1fc02-4628-444f-b91c-86f8653f078e"
      },
      "execution_count": null,
      "outputs": [
        {
          "output_type": "stream",
          "name": "stdout",
          "text": [
            "Digite a largura do retângulo (cm): 5\n",
            "Digite a altura do retângulo (cm): 5\n",
            "A área do retângulo é: 25.0 cm²\n"
          ]
        }
      ]
    },
    {
      "cell_type": "code",
      "source": [
        "# 5 - Crie uma função Lambda para que o usuário digite as idades de duas pessoas. O programa deve exibir se as idades são iguais ou diferentes.\n",
        "comparar_idades = lambda idade1, idade2: \"As idades são iguais.\" if idade1 == idade2 else \"As idades são diferentes.\"\n",
        "idade1 = int(input(\"Digite a idade da primeira pessoa: \"))\n",
        "idade2 = int(input(\"Digite a idade da segunda pessoa: \"))\n",
        "print(comparar_idades(idade1, idade2))"
      ],
      "metadata": {
        "id": "E-mSdNVFkRaI",
        "colab": {
          "base_uri": "https://localhost:8080/"
        },
        "outputId": "5d896489-776a-4b36-840f-355534dc92a5"
      },
      "execution_count": 2,
      "outputs": [
        {
          "output_type": "stream",
          "name": "stdout",
          "text": [
            "Digite a idade da primeira pessoa: 30\n",
            "Digite a idade da segunda pessoa: 29\n",
            "As idades são diferentes.\n"
          ]
        }
      ]
    },
    {
      "cell_type": "code",
      "source": [
        "# 6 - Crie uma função Lambda para que o usuário digite seu peso (em kg) e sua altura (em metros). O programa deve calcular e exibir o Índice de Massa Corporal (IMC).\n",
        "calcular_imc = lambda peso, altura: peso / (altura ** 2)\n",
        "peso = float(input(\"Digite seu peso (em kg): \"))\n",
        "altura = float(input(\"Digite sua altura (em metros): \"))\n",
        "imc = calcular_imc(peso, altura)\n",
        "print(f\"Seu IMC é: {imc:.2f}\")"
      ],
      "metadata": {
        "colab": {
          "base_uri": "https://localhost:8080/"
        },
        "id": "05ncFL2CkQMw",
        "outputId": "40cbd9dd-406c-4008-84c5-f2e2a69bf4ee"
      },
      "execution_count": 1,
      "outputs": [
        {
          "output_type": "stream",
          "name": "stdout",
          "text": [
            "Digite seu peso (em kg): 85\n",
            "Digite sua altura (em metros): 1.70\n",
            "Seu IMC é: 29.41\n"
          ]
        }
      ]
    },
    {
      "cell_type": "code",
      "source": [
        "# 7 - Crie uma função Lambda para que o usuário digite dois números. O programa deve exibir se o primeiro número é maior, menor ou igual ao segundo número.\n",
        "comparar_numeros = lambda num1, num2: \"maior\" if num1 > num2 else \"menor\" if num1 < num2 else \"igual\"\n",
        "num1 = float(input(\"Digite o primeiro número: \"))\n",
        "num2 = float(input(\"Digite o segundo número: \"))\n",
        "resultado = comparar_numeros(num1, num2)\n",
        "print(f\"O primeiro número é {resultado} que o segundo.\")"
      ],
      "metadata": {
        "colab": {
          "base_uri": "https://localhost:8080/"
        },
        "id": "EzSK6-LVkQI_",
        "outputId": "0f125adf-815e-4aa7-de11-d5233b48cf3a"
      },
      "execution_count": 3,
      "outputs": [
        {
          "output_type": "stream",
          "name": "stdout",
          "text": [
            "Digite o primeiro número: 5\n",
            "Digite o segundo número: 2\n",
            "O primeiro número é maior que o segundo.\n"
          ]
        }
      ]
    },
    {
      "cell_type": "code",
      "source": [
        "# 8 - Crie uma função Lambda para que o usuário digite três números. O programa deve calcular e exibir a média aritmética desses números\n",
        "calcular_media = lambda num1, num2, num3: (num1 + num2 + num3) / 3\n",
        "num1 = float(input(\"Digite o primeiro número: \"))\n",
        "num2 = float(input(\"Digite o segundo número: \"))\n",
        "num3 = float(input(\"Digite o terceiro número: \"))\n",
        "medi = calcular_media(num1, num2, num3)\n",
        "print(f\"A média aritmética dos números é: {medi:.2f}\")"
      ],
      "metadata": {
        "colab": {
          "base_uri": "https://localhost:8080/"
        },
        "id": "SZooTMXmSyym",
        "outputId": "f6cdc4ce-63be-4f0a-ecd8-3e10c9923e61"
      },
      "execution_count": 5,
      "outputs": [
        {
          "output_type": "stream",
          "name": "stdout",
          "text": [
            "Digite o primeiro número: 1\n",
            "Digite o segundo número: 2\n",
            "Digite o terceiro número: 3\n",
            "A média aritmética dos números é: 2.00\n"
          ]
        }
      ]
    },
    {
      "cell_type": "code",
      "source": [
        "# 9 - Crie uma função Lambda para que o usuário digite o raio e a altura de um cilindro. O programa deve calcular e exibir o volume do cilindro.\n",
        "import math\n",
        "calcular_volume = lambda raio, altura: math.pi * (raio ** 2) * altura\n",
        "raio = float(input(\"Digite o raio do cilindro: \"))\n",
        "altura = float(input(\"Digite a altura do cilindro: \"))\n",
        "volume = calcular_volume(raio, altura)\n",
        "print(f\"O volume do cilindro é: {volume:.2f} metros cúbicos\")"
      ],
      "metadata": {
        "colab": {
          "base_uri": "https://localhost:8080/"
        },
        "id": "EJljoEIRkPy_",
        "outputId": "6b2a05a4-05c8-467f-9d70-4333720e1f60"
      },
      "execution_count": 7,
      "outputs": [
        {
          "output_type": "stream",
          "name": "stdout",
          "text": [
            "Digite o raio do cilindro: 5\n",
            "Digite a altura do cilindro: 10\n",
            "O volume do cilindro é: 785.40 metros cúbicos\n"
          ]
        }
      ]
    },
    {
      "cell_type": "code",
      "source": [
        "# 10 - Crie uma função Lambda para que o usuário digite duas palavras. O programa deve exibir se as palavras são iguais ou diferentes.\n",
        "comparar_palavras = lambda palavra1, palavra2: \"iguais\" if palavra1 == palavra2 else \"diferentes\"\n",
        "palavra1 = input(\"Digite a primeira palavra: \")\n",
        "palavra2 = input(\"Digite a segunda palavra: \")\n",
        "resultado = comparar_palavras(palavra1, palavra2)\n",
        "print(f\"As palavras são {resultado}.\")"
      ],
      "metadata": {
        "id": "Acw1pNcSkPn4",
        "colab": {
          "base_uri": "https://localhost:8080/"
        },
        "outputId": "9a0879c2-adc0-428b-b5ff-6cdfaa98ba4d"
      },
      "execution_count": 8,
      "outputs": [
        {
          "output_type": "stream",
          "name": "stdout",
          "text": [
            "Digite a primeira palavra: Red\n",
            "Digite a segunda palavra: Blue\n",
            "As palavras são diferentes.\n"
          ]
        }
      ]
    }
  ]
}