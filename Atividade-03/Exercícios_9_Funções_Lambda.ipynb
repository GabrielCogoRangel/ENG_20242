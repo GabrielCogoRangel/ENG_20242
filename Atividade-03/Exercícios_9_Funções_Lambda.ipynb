{
  "nbformat": 4,
  "nbformat_minor": 0,
  "metadata": {
    "colab": {
      "provenance": [],
      "authorship_tag": "ABX9TyNzFPK4b5aE3z6dHlna6Xh4",
      "include_colab_link": true
    },
    "kernelspec": {
      "name": "python3",
      "display_name": "Python 3"
    },
    "language_info": {
      "name": "python"
    }
  },
  "cells": [
    {
      "cell_type": "markdown",
      "metadata": {
        "id": "view-in-github",
        "colab_type": "text"
      },
      "source": [
        "<a href=\"https://colab.research.google.com/github/GabrielCogoRangel/ENG_20242/blob/main/Atividade-03/Exerc%C3%ADcios_9_Fun%C3%A7%C3%B5es_Lambda.ipynb\" target=\"_parent\"><img src=\"https://colab.research.google.com/assets/colab-badge.svg\" alt=\"Open In Colab\"/></a>"
      ]
    },
    {
      "cell_type": "markdown",
      "source": [
        "# **2º Bimestre**"
      ],
      "metadata": {
        "id": "lqVRSMLl61yZ"
      }
    },
    {
      "cell_type": "markdown",
      "source": [
        "# **Exercícios (Aula 09)**"
      ],
      "metadata": {
        "id": "I0SqCBhaF6Z1"
      }
    },
    {
      "cell_type": "code",
      "source": [
        "# 1 Dada uma lista de números inteiros, use uma função lambda para retornar uma lista com o quadrado de cada número.\n",
        "lista = [1, 2, 3, 4, 5, 6, 7, 8, 9, 10]\n",
        "quadrado = list(map(lambda x: x**2, lista))\n",
        "print(quadrado)"
      ],
      "metadata": {
        "colab": {
          "base_uri": "https://localhost:8080/"
        },
        "id": "x60Z-0aSGA1R",
        "outputId": "3ad67056-4396-4d64-fb8d-cc045d359835"
      },
      "execution_count": null,
      "outputs": [
        {
          "output_type": "stream",
          "name": "stdout",
          "text": [
            "[1, 4, 9, 16, 25, 36, 49, 64, 81, 100]\n"
          ]
        }
      ]
    },
    {
      "cell_type": "code",
      "source": [
        "# 2 Dada uma lista de temperaturas em Celsius, use uma função lambda para convertê-las em Fahrenheit.\n",
        "temperaturas_celsius = [0, 10, 20, 30, 40, 50]\n",
        "temperaturas_fahrenheit = list(map(lambda x: (x * 9/5) + 32, temperaturas_celsius))\n",
        "print(temperaturas_fahrenheit)"
      ],
      "metadata": {
        "colab": {
          "base_uri": "https://localhost:8080/"
        },
        "id": "nQ_T-yFsGacb",
        "outputId": "a7642005-e75e-4bc6-90d8-75fece5c65a1"
      },
      "execution_count": null,
      "outputs": [
        {
          "output_type": "stream",
          "name": "stdout",
          "text": [
            "[32.0, 50.0, 68.0, 86.0, 104.0, 122.0]\n"
          ]
        }
      ]
    },
    {
      "cell_type": "code",
      "source": [
        "# 3 Dada uma lista de palavras, use uma função lambda para retornar uma lista com o comprimento de cada palavra.\n",
        "palavras = ['Fire', 'Wind', 'Water', 'Thunder']\n",
        "comprimento_palavras = list(map(lambda x: len(x), palavras))\n",
        "print(comprimento_palavras)"
      ],
      "metadata": {
        "colab": {
          "base_uri": "https://localhost:8080/"
        },
        "id": "JocINw6-G1kx",
        "outputId": "7849a91f-2719-4236-ec4e-1c57a0d98dc9"
      },
      "execution_count": null,
      "outputs": [
        {
          "output_type": "stream",
          "name": "stdout",
          "text": [
            "[4, 4, 5, 7]\n"
          ]
        }
      ]
    },
    {
      "cell_type": "code",
      "source": [
        "# 4 Use uma função lambda para dobrar os valores de uma lista de inteiros.\n",
        "lista = [1, 2, 3, 4, 5, 6, 7, 8, 9, 10]\n",
        "dobro = list(map(lambda x: x*2, lista))\n",
        "print(dobro)"
      ],
      "metadata": {
        "colab": {
          "base_uri": "https://localhost:8080/"
        },
        "id": "LGyiy_36IA4j",
        "outputId": "648cfd4e-729d-46b0-c827-e0f20399533c"
      },
      "execution_count": null,
      "outputs": [
        {
          "output_type": "stream",
          "name": "stdout",
          "text": [
            "[2, 4, 6, 8, 10, 12, 14, 16, 18, 20]\n"
          ]
        }
      ]
    },
    {
      "cell_type": "code",
      "source": [
        "# 5 Dada uma lista de nomes, use uma função lambda para adicionar o prefixo \"Sr./Sra.\" antes de cada nome.\n",
        "nome = ['Fire', 'Wind', 'Water', 'Thunder']\n",
        "prefixo = list(map(lambda x: 'Sr./Sra. ' + x, lista))\n",
        "print(prefixo)"
      ],
      "metadata": {
        "colab": {
          "base_uri": "https://localhost:8080/"
        },
        "id": "yqRqCF-EIny5",
        "outputId": "e3eaae53-6110-4f74-fc8a-9161d56f2b9f"
      },
      "execution_count": null,
      "outputs": [
        {
          "output_type": "stream",
          "name": "stdout",
          "text": [
            "['Sr./Sra. Fire', 'Sr./Sra. Wind', 'Sr./Sra. Water', 'Sr./Sra. Thunder']\n"
          ]
        }
      ]
    },
    {
      "cell_type": "code",
      "source": [
        "# 6 Dada uma lista de números, use uma função lambda para retornar apenas os números pares.\n",
        "numeros = [1, 2, 3, 4, 5, 6, 7, 8, 9, 10]\n",
        "numeros_pares = list(filter(lambda x: x % 2 == 0, numeros))\n",
        "print(numeros_pares)"
      ],
      "metadata": {
        "colab": {
          "base_uri": "https://localhost:8080/"
        },
        "id": "Td-sxUS2KHxR",
        "outputId": "9756ab9e-847b-4134-f2d5-f740888738eb"
      },
      "execution_count": null,
      "outputs": [
        {
          "output_type": "stream",
          "name": "stdout",
          "text": [
            "[2, 4, 6, 8, 10]\n"
          ]
        }
      ]
    },
    {
      "cell_type": "code",
      "source": [
        "# 7 Dada uma lista de palavras, use uma função lambda para retornar apenas as palavras com menos de 5 caracteres.\n",
        "nome = ['Fire', 'Wind', 'Water', 'Thunder']\n",
        "palavras_menos_5 = list(filter(lambda x: len(x) < 5, nome))\n",
        "print(palavras_menos_5)"
      ],
      "metadata": {
        "colab": {
          "base_uri": "https://localhost:8080/"
        },
        "id": "mJJRAov5Km1d",
        "outputId": "ded02678-01e1-457a-b22e-6ed61d93b1b3"
      },
      "execution_count": null,
      "outputs": [
        {
          "output_type": "stream",
          "name": "stdout",
          "text": [
            "['Fire', 'Wind']\n"
          ]
        }
      ]
    },
    {
      "cell_type": "code",
      "source": [
        "# 8 Dada uma lista de idades, use uma função lambda para retornar apenas as idades maiores que 18.\n",
        "idades = [10, 11, 12, 13, 14, 15, 20, 21, 22, 23, 24, 25]\n",
        "idades_maiores_18 = list(filter(lambda x: x > 18, idades))\n",
        "print(idades_maiores_18)"
      ],
      "metadata": {
        "colab": {
          "base_uri": "https://localhost:8080/"
        },
        "id": "_Wj7DrHDOB7J",
        "outputId": "0d6aa32a-c051-471f-d68e-3e5e79c813dc"
      },
      "execution_count": null,
      "outputs": [
        {
          "output_type": "stream",
          "name": "stdout",
          "text": [
            "[20, 21, 22, 23, 24, 25]\n"
          ]
        }
      ]
    },
    {
      "cell_type": "code",
      "source": [
        "# 9 Dada uma lista de strings, use uma função lambda para retornar as strings que começam com a letra \"a\".\n",
        "lista = ['Aatrox', 'Aurora', 'Akali', 'Renekton' , 'Braum' , 'Karma']\n",
        "comeca_com_a = list(filter(lambda x: x[0] == 'A', lista))\n",
        "print(comeca_com_a)"
      ],
      "metadata": {
        "colab": {
          "base_uri": "https://localhost:8080/"
        },
        "id": "j88P-zreO4-u",
        "outputId": "5d2ee713-f6d2-4a3c-c4e2-fdfe9deb4861"
      },
      "execution_count": null,
      "outputs": [
        {
          "output_type": "stream",
          "name": "stdout",
          "text": [
            "['Aatrox', 'Aurora', 'Akali']\n"
          ]
        }
      ]
    },
    {
      "cell_type": "code",
      "source": [
        "# 10 Dada uma lista de números inteiros, use uma função lambda para retornar apenas os números positivos.\n",
        "numeros = [-1, 2, -3, 4, -5, 6, -7, 8, -9, 10]\n",
        "numeros_positivos = list(filter(lambda x: x > 0, numeros))\n",
        "print(numeros_positivos)"
      ],
      "metadata": {
        "colab": {
          "base_uri": "https://localhost:8080/"
        },
        "id": "gRocqggWQnNJ",
        "outputId": "a259f086-46d8-43ec-e2d0-ccbc81ec8e27"
      },
      "execution_count": null,
      "outputs": [
        {
          "output_type": "stream",
          "name": "stdout",
          "text": [
            "[2, 4, 6, 8, 10]\n"
          ]
        }
      ]
    },
    {
      "cell_type": "code",
      "source": [
        "# 12 Use uma função lambda para multiplicar todos os elementos de uma lista.\n",
        "from functools import reduce\n",
        "lista = [1, 2, 3, 4, 5, 6, 7, 8, 9, 10]\n",
        "multiplicacao = reduce(lambda x, y: x * y, lista)\n",
        "print(multiplicacao)"
      ],
      "metadata": {
        "colab": {
          "base_uri": "https://localhost:8080/"
        },
        "id": "WCESdkyuRIHy",
        "outputId": "892e5de9-d4e6-45af-ce8c-7c5c21e94679"
      },
      "execution_count": null,
      "outputs": [
        {
          "output_type": "stream",
          "name": "stdout",
          "text": [
            "3628800\n"
          ]
        }
      ]
    },
    {
      "cell_type": "code",
      "source": [
        "# 13 Use uma função lambda para encontrar o maior número em uma lista.\n",
        "from functools import reduce\n",
        "lista = [1, 2, 3, 4, 5, 6, 7, 8, 9, 10]\n",
        "maior_numero = reduce(lambda x, y: x if x > y else y, lista)\n",
        "print(maior_numero)"
      ],
      "metadata": {
        "colab": {
          "base_uri": "https://localhost:8080/"
        },
        "id": "e0L5-fV1Rlzu",
        "outputId": "d3011da0-b45a-4799-a006-427fea838950"
      },
      "execution_count": null,
      "outputs": [
        {
          "output_type": "stream",
          "name": "stdout",
          "text": [
            "10\n"
          ]
        }
      ]
    },
    {
      "cell_type": "code",
      "source": [
        "# 14 Use uma função lambda para concatenar uma lista de palavras em uma única string separada por espaços.\n",
        "from functools import reduce\n",
        "lista = ['Fire', 'Wind', 'Water', 'Thunder']\n",
        "concatenar = reduce(lambda x, y: x + ' ' + y, lista)\n",
        "print(concatenar)"
      ],
      "metadata": {
        "colab": {
          "base_uri": "https://localhost:8080/"
        },
        "id": "W8wwhT7xR2ru",
        "outputId": "d525c28d-f208-4500-ee14-68d0be339c17"
      },
      "execution_count": null,
      "outputs": [
        {
          "output_type": "stream",
          "name": "stdout",
          "text": [
            "Fire Wind Water Thunder\n"
          ]
        }
      ]
    },
    {
      "cell_type": "code",
      "source": [
        "# 15 Use uma função lambda para somar os dígitos de uma lista de inteiros, onde cada número é tratado individualmente.\n",
        "from functools import reduce\n",
        "lista = [1, 2, 3, 4, 5, 6, 7, 8, 9, 10]\n",
        "soma_digitos = reduce(lambda x, y: int(x) + int(y), map(str, lista))\n",
        "print(soma_digitos)"
      ],
      "metadata": {
        "colab": {
          "base_uri": "https://localhost:8080/"
        },
        "id": "NVqViQu6SCQg",
        "outputId": "b98d1937-4be6-4b23-e290-8fee6960b96e"
      },
      "execution_count": null,
      "outputs": [
        {
          "output_type": "stream",
          "name": "stdout",
          "text": [
            "55\n"
          ]
        }
      ]
    },
    {
      "cell_type": "code",
      "source": [
        "# 16 Use uma função lambda para dobrar os números de uma lista e retornar apenas os números que são maiores que 20.\n",
        "numeros = [5, 10, 15, 20, 25, 30]\n",
        "numeros_maiores_que_20 = list(filter(lambda x: x * 2 > 20, numeros))\n",
        "print(numeros_maiores_que_20)"
      ],
      "metadata": {
        "colab": {
          "base_uri": "https://localhost:8080/"
        },
        "id": "S3XK1dsbn7pi",
        "outputId": "bf340cb8-92cf-4e95-9ada-180026392566"
      },
      "execution_count": null,
      "outputs": [
        {
          "output_type": "stream",
          "name": "stdout",
          "text": [
            "[15, 20, 25, 30]\n"
          ]
        }
      ]
    },
    {
      "cell_type": "code",
      "source": [
        "# 17 Dada uma lista de palavras, use uma função lambda para encontrar todas as palavras que contêm a letra \"e\" e conte quantas são.\n",
        "lista = ['Fire', 'Wind', 'Water', 'Thunder']\n",
        "palavras_com_e = list(filter(lambda x: 'e' in x, palavras))\n",
        "quantidade = len(palavras_com_e)\n",
        "print(\"Palavras com a letra 'e':\", palavras_com_e)\n",
        "print(\"Quantidade de palavras com a letra 'e':\", quantidade)"
      ],
      "metadata": {
        "colab": {
          "base_uri": "https://localhost:8080/"
        },
        "id": "suiYtp8un7g5",
        "outputId": "d8886342-7d99-4464-d993-8fb6bed411c7"
      },
      "execution_count": null,
      "outputs": [
        {
          "output_type": "stream",
          "name": "stdout",
          "text": [
            "Palavras com a letra 'e': ['Fire', 'Water', 'Thunder']\n",
            "Quantidade de palavras com a letra 'e': 3\n"
          ]
        }
      ]
    },
    {
      "cell_type": "code",
      "source": [
        "# 18 Converta uma lista de temperaturas de Fahrenheit para Celsius usando uma função lambda e, em seguida, retorne apenas as temperaturas abaixo de 20°C.\n",
        "temperaturas_fahrenheit = [32, 50, 68, 77, 95, 104, 122]\n",
        "temperaturas_baixas = list(filter(lambda x: (x - 32) * 5/9 < 20, temperaturas_fahrenheit))\n",
        "print(\"Temperaturas abaixo de 20°C:\", temperaturas_baixas)\n"
      ],
      "metadata": {
        "colab": {
          "base_uri": "https://localhost:8080/"
        },
        "id": "hSdqbWGOn7ZI",
        "outputId": "165af339-3fb3-4b43-bfc4-cc73765edf2a"
      },
      "execution_count": null,
      "outputs": [
        {
          "output_type": "stream",
          "name": "stdout",
          "text": [
            "Temperaturas abaixo de 20°C: [32, 50]\n"
          ]
        }
      ]
    },
    {
      "cell_type": "code",
      "source": [
        "# 19 Use uma função lambda para selecionar apenas os números pares de uma lista e, em seguida, somar esses números.\n",
        "numeros = [1, 2, 3, 4, 5, 6, 7, 8, 9, 10]\n",
        "soma_pares = sum(filter(lambda x: x % 2 == 0, numeros))\n",
        "print(\"Soma dos números pares:\", soma_pares)"
      ],
      "metadata": {
        "colab": {
          "base_uri": "https://localhost:8080/"
        },
        "id": "n7XYQs27n7QJ",
        "outputId": "2a9cee1e-a00e-48c9-f697-2f88d130275c"
      },
      "execution_count": null,
      "outputs": [
        {
          "output_type": "stream",
          "name": "stdout",
          "text": [
            "Soma dos números pares: 30\n"
          ]
        }
      ]
    },
    {
      "cell_type": "code",
      "source": [
        "# 20 Use uma função lambda para substituir números negativos de uma lista por 0 e manter os positivos.\n",
        "lista = [-1, 2, -3, 4, -5, 6, -7, 8, -9, 10]\n",
        "nova_lista = list(map(lambda x: 0 if x < 0 else x, lista))\n",
        "print(\"Nova lista:\", nova_lista)"
      ],
      "metadata": {
        "colab": {
          "base_uri": "https://localhost:8080/"
        },
        "id": "YrkBGuyXn7HS",
        "outputId": "8a758574-36fe-446c-b4d3-a22d67560930"
      },
      "execution_count": null,
      "outputs": [
        {
          "output_type": "stream",
          "name": "stdout",
          "text": [
            "Nova lista: [0, 2, 0, 4, 0, 6, 0, 8, 0, 10]\n"
          ]
        }
      ]
    },
    {
      "cell_type": "code",
      "source": [
        "# 21 Use uma função lambda para retornar a lista de cubos de cada elemento em uma lista de números.\n",
        "lista = [1, 2, 3, 4, 5, 6, 7, 8, 9, 10]\n",
        "cubos = list(map(lambda x: x**3, lista))\n",
        "print(cubos)"
      ],
      "metadata": {
        "colab": {
          "base_uri": "https://localhost:8080/"
        },
        "id": "6TU0Pjivn6-c",
        "outputId": "98adc4cf-9278-4e8b-8e58-b7bf1950be4c"
      },
      "execution_count": null,
      "outputs": [
        {
          "output_type": "stream",
          "name": "stdout",
          "text": [
            "[1, 8, 27, 64, 125, 216, 343, 512, 729, 1000]\n"
          ]
        }
      ]
    },
    {
      "cell_type": "code",
      "source": [
        "# 22 Use uma função lambda para verificar se um número dado é primo (retornando True ou False).\n",
        "numero = 13\n",
        "primo = lambda x: all(x % i != 0 for i in range(2, x))\n",
        "print(primo(numero))"
      ],
      "metadata": {
        "colab": {
          "base_uri": "https://localhost:8080/"
        },
        "id": "PjVWlkSgn62B",
        "outputId": "114b7064-cab9-4a63-e684-5ac25b6c956c"
      },
      "execution_count": null,
      "outputs": [
        {
          "output_type": "stream",
          "name": "stdout",
          "text": [
            "True\n"
          ]
        }
      ]
    },
    {
      "cell_type": "code",
      "source": [
        "# 23 Use uma função lambda para dividir cada elemento de uma lista por 5 e retornar a nova lista.\n",
        "lista = [10, 20, 30, 40, 50]\n",
        "nova_lista = list(map(lambda x: x / 5, lista))\n",
        "print(nova_lista)"
      ],
      "metadata": {
        "colab": {
          "base_uri": "https://localhost:8080/"
        },
        "id": "wLxs9cCwn6uP",
        "outputId": "08aebaa1-e2bd-4492-b48e-eceba9da4167"
      },
      "execution_count": null,
      "outputs": [
        {
          "output_type": "stream",
          "name": "stdout",
          "text": [
            "[2.0, 4.0, 6.0, 8.0, 10.0]\n"
          ]
        }
      ]
    },
    {
      "cell_type": "code",
      "source": [
        "# 24 Use uma função lambda para remover todas as vogais de uma string dada.\n",
        "nome = 'Fire Wind Water Thunder'\n",
        "sem_vogais = ''.join(filter(lambda x: x.lower() not in 'aeiou', nome))\n",
        "print(sem_vogais)"
      ],
      "metadata": {
        "colab": {
          "base_uri": "https://localhost:8080/"
        },
        "id": "OLS-GuJen6mi",
        "outputId": "4650108c-d09f-4663-9fbc-de336bd9e49b"
      },
      "execution_count": null,
      "outputs": [
        {
          "output_type": "stream",
          "name": "stdout",
          "text": [
            "Fr Wnd Wtr Thndr\n"
          ]
        }
      ]
    },
    {
      "cell_type": "code",
      "source": [
        "# 25 Use uma função lambda para converter todas as palavras em uma lista para letras maiúsculas.\n",
        "palavras = ['fire', 'wind', 'water', 'thunder']\n",
        "maiusculas = list(map(lambda x: x.upper(), palavras))\n",
        "print(maiusculas)"
      ],
      "metadata": {
        "colab": {
          "base_uri": "https://localhost:8080/"
        },
        "id": "imNhpXptn6fI",
        "outputId": "912eb1b3-0b8b-4bce-bcce-3389f41107ce"
      },
      "execution_count": null,
      "outputs": [
        {
          "output_type": "stream",
          "name": "stdout",
          "text": [
            "['FIRE', 'WIND', 'WATER', 'THUNDER']\n"
          ]
        }
      ]
    },
    {
      "cell_type": "code",
      "source": [
        "# 26 Use uma função lambda para retornar apenas os números negativos de uma lista de inteiros.\n",
        "numeros = [-1, 2, -3, 4, -5, 6, -7, 8, -9, 10]\n",
        "negativos = list(filter(lambda x: x < 0, numeros))\n",
        "print(negativos)"
      ],
      "metadata": {
        "colab": {
          "base_uri": "https://localhost:8080/"
        },
        "id": "OkQ9ZlP4n6Xe",
        "outputId": "64ba1b7b-276a-464a-de23-38a6c56fa614"
      },
      "execution_count": null,
      "outputs": [
        {
          "output_type": "stream",
          "name": "stdout",
          "text": [
            "[-1, -3, -5, -7, -9]\n"
          ]
        }
      ]
    },
    {
      "cell_type": "code",
      "source": [
        "# 27 Use uma função lambda para converter todos os números de uma lista para seus valores absolutos.\n",
        "numeros = [-1, 2, -3, 4, -5, 6, -7, 8, -9, 10]\n",
        "absolutos = list(map(lambda x: abs(x), numeros))\n",
        "print(absolutos)"
      ],
      "metadata": {
        "colab": {
          "base_uri": "https://localhost:8080/"
        },
        "id": "5Y_9MSVVn6QC",
        "outputId": "70e7c909-f9b8-453c-b9fb-ee5a5837aa20"
      },
      "execution_count": null,
      "outputs": [
        {
          "output_type": "stream",
          "name": "stdout",
          "text": [
            "[1, 2, 3, 4, 5, 6, 7, 8, 9, 10]\n"
          ]
        }
      ]
    },
    {
      "cell_type": "code",
      "source": [
        "# 28 Use uma função lambda para retornar uma lista com o resto da divisão de cada elemento por 3.\n",
        "numeros = [1, 2, 3, 4, 5, 6, 7, 8, 9, 10]\n",
        "resto = list(map(lambda x: x % 3, numeros))\n",
        "print(resto)"
      ],
      "metadata": {
        "colab": {
          "base_uri": "https://localhost:8080/"
        },
        "id": "wt-i5V63n6I0",
        "outputId": "d8ed4dd8-25de-41b5-8a55-8d6f12138877"
      },
      "execution_count": null,
      "outputs": [
        {
          "output_type": "stream",
          "name": "stdout",
          "text": [
            "[1, 2, 0, 1, 2, 0, 1, 2, 0, 1]\n"
          ]
        }
      ]
    },
    {
      "cell_type": "code",
      "source": [
        "# 29 Dada uma lista de números, use uma função lambda para multiplicar cada elemento pelo seu índice.\n",
        "numeros = [1, 2, 3, 4, 5, 6, 7, 8, 9, 10]\n",
        "multiplicacao = list(map(lambda x, y: x * y, range(len(numeros)), numeros))\n",
        "print(multiplicacao)"
      ],
      "metadata": {
        "colab": {
          "base_uri": "https://localhost:8080/"
        },
        "id": "Q1Dni_kwn6Bs",
        "outputId": "6b6246fb-8f4a-4f69-d078-0f0b1a38273e"
      },
      "execution_count": null,
      "outputs": [
        {
          "output_type": "stream",
          "name": "stdout",
          "text": [
            "[0, 2, 6, 12, 20, 30, 42, 56, 72, 90]\n"
          ]
        }
      ]
    },
    {
      "cell_type": "code",
      "source": [
        "# 30 Use uma função lambda para verificar se uma palavra dada é um palíndromo (retornando True ou False).\n",
        "palavra = 'Fire'\n",
        "palindromo = lambda x: x == x[::-1]\n",
        "print(palindromo(palavra))"
      ],
      "metadata": {
        "colab": {
          "base_uri": "https://localhost:8080/"
        },
        "id": "j_bUD53qn56D",
        "outputId": "4f9c1d7d-44f2-486c-9997-d75af32b3208"
      },
      "execution_count": null,
      "outputs": [
        {
          "output_type": "stream",
          "name": "stdout",
          "text": [
            "False\n"
          ]
        }
      ]
    }
  ]
}